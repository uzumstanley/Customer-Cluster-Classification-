{
  "nbformat": 4,
  "nbformat_minor": 0,
  "metadata": {
    "colab": {
      "name": "Demo notebook",
      "provenance": []
    },
    "kernelspec": {
      "name": "python3",
      "display_name": "Python 3"
    },
    "language_info": {
      "name": "python"
    }
  },
  "cells": [
    {
      "cell_type": "markdown",
      "source": [
        "#Generate customer clusters and marketing messages with BigQuery DataFrames and GenAI\n",
        "\n",
        "##Overview\n",
        "Within the **BigQuery Studio** workspace, you can use a Colab Enterprise notebook interface and a workspace to save and share your notebooks. The notebooks come with **BigQuery DataFrames**, which provide a Pythonic DataFrame and ML API powered by the BigQuery engine. The operations happen in BigQuery at scale rather than within the notebook runtime.\n",
        "\n",
        "*   [bigframes.pandas](https://cloud.google.com/python/docs/reference/bigframes/latest/bigframes.dataframe.DataFrame) provides a pandas-compatible API for analytics.\n",
        "*   [bigframes.ml](https://cloud.google.com/python/docs/reference/bigframes/latest/bigframes.ml.cluster) provides a scikit-learn-like API for ML.\n",
        "*   [bigframes.ml.llm](https://cloud.google.com/python/docs/reference/bigframes/latest/bigframes.ml.llm) provides LLM capabilities.\n",
        "\n",
        "BigQuery DataFrames is an open-source Python package. It is pre-installed on  BigQuery Studio Python notebooks.  Additionally, you can always run `pip install --upgrade bigframes` to install the latest version.\n",
        "\n",
        "\n",
        "\n",
        "## Objectives\n",
        "This example illustrates a common Data to AI journey from data exploration to constructing a k-means machine learning model with BigFrames to segment customers of similar behaviors and demographics. Subsequently, Generative AI is applied to leverage cluster information and customer messaging to activate marketing campaigns. In doing so, you can build a data-centric, personalized marketing campaign all from BigQuery!\n",
        "\n",
        "In this tutorial, you will:\n",
        "\n",
        "* Generate features using BigQuery DataFrames\n",
        "* Perform basic data exploration\n",
        "* Implement a k-means clustering model with BigFrames\n",
        "* Produce cluster descriptive statistics\n",
        "* Utilize Generative AI to articulate ML model outputs in natural language for business users\n",
        "* (Bonus) Use Generative AI to craft engaging emails tailored to customer segments.\n",
        "\n",
        "\n",
        "\n",
        "\n",
        "###Helpful Links\n",
        "\n",
        "* [BigFrames API Reference](https://cloud.google.com/python/docs/reference/bigframes/latest)\n",
        "\n",
        "\n",
        "* [BigFrames GitHub page with sample notebooks](https://github.com/googleapis/python-bigquery-dataframes)\n",
        "\n",
        "* [Troubleshooting notebook runtimes](https://cloud.google.com/colab/docs/troubleshooting)\n"
      ],
      "metadata": {
        "id": "Sxq-V_jV4gEk"
      }
    },
    {
      "cell_type": "markdown",
      "source": [
        "## Before you Begin : Setup Steps\n"
      ],
      "metadata": {
        "id": "05KJTULrIrbP"
      }
    },
    {
      "cell_type": "markdown",
      "source": [
        "## Define notebook variables\n",
        "\n",
        "Please update variables like your GCP Project ID (`PROJECT_ID`), dataset name (`DATASET_NAME`), and location (`LOCATION`).\n",
        "\n",
        "The variables `DATASET_NAME`, `LOCATION` and `MODEL_NAME` are pre-populated, but you can update them if you wish.\n",
        "\n",
        "Ensure that the dataset exists in the same GCP Project as `PROJECT_ID`."
      ],
      "metadata": {
        "id": "sHoUOuxf5GOR"
      }
    },
    {
      "cell_type": "code",
      "source": [
        "#@title Setup Project Variables { run: \"auto\", display-mode: \"form\" }\n",
        "PROJECT_ID = \"solid-pact-453100-d7\" #@param {type:\"string\"}\n",
        "DATASET_NAME = \"theLook_retail\" #@param {type:\"string\"}\n",
        "MODEL_NAME = \"bqdf_customer_segment_cluster\" #@param {type:\"string\"}\n",
        "EVAL_NAME = MODEL_NAME + \"_eval\"\n",
        "LOCATION = \"US\"  # @param {type:\"string\"}\n",
        "from google.cloud import bigquery\n",
        "client = bigquery.Client()"
      ],
      "metadata": {
        "id": "_3Rfhx874F2J",
        "executionInfo": {
          "status": "ok",
          "timestamp": 1741397576469,
          "user_tz": 0,
          "elapsed": 111,
          "user": {
            "displayName": "",
            "userId": ""
          }
        }
      },
      "execution_count": 3,
      "outputs": []
    },
    {
      "cell_type": "code",
      "source": [
        "dataset = client.create_dataset(DATASET_NAME, exists_ok=True, timeout=30)  # Make an API request.\n",
        "print(\"Created dataset {}.{}\".format(client.project, dataset.dataset_id))"
      ],
      "metadata": {
        "id": "wHJfWWBTumIu",
        "colab": {
          "base_uri": "https://localhost:8080/"
        },
        "executionInfo": {
          "status": "ok",
          "timestamp": 1741397582343,
          "user_tz": 0,
          "elapsed": 722,
          "user": {
            "displayName": "",
            "userId": ""
          }
        },
        "outputId": "e808652e-cf7e-4fb3-b394-8dd359365b56"
      },
      "execution_count": 4,
      "outputs": [
        {
          "output_type": "stream",
          "name": "stdout",
          "text": [
            "Created dataset solid-pact-453100-d7.theLook_retail\n"
          ]
        }
      ]
    },
    {
      "cell_type": "markdown",
      "source": [
        "\n",
        "\n",
        "---\n",
        "\n"
      ],
      "metadata": {
        "id": "P-eLlA_0dj8p"
      }
    },
    {
      "cell_type": "markdown",
      "source": [
        "## Step 1 : Basic Exploratory Data Analysis\n",
        "To kick things off, let's first inspect our data prior to constructing any models. Within this tutorial, we'll be working with the [theLook eCommerce public dataset](https://console.cloud.google.com/marketplace/product/bigquery-public-data/thelook-ecommerce).\n",
        "\n",
        "TheLook is an imaginary eCommerce apparel website. Within this dataset, you'll discover details about customers, products, orders, logistics, web events, and digital marketing campaigns. Our main emphasis is the `order_items` table, which contains transactional insights about customers. It's important to note that the contents of this dataset are artificially generated and are made available to professionals in the industry for the purposes of product exploration, testing, and assessment.\n",
        "\n",
        "There are a few ways we can query data and get it into a dataframe. Here are two approaches:"
      ],
      "metadata": {
        "id": "IOlN-lku6KPi"
      }
    },
    {
      "cell_type": "markdown",
      "source": [
        "#### **Initializing BigQuery Dataframes**\n",
        "\n",
        "Import bigframes.pandas for a pandas-like interface. Use the Python SDK to bring data into a dataframe."
      ],
      "metadata": {
        "id": "5Ss_JcgU6dxL"
      }
    },
    {
      "cell_type": "code",
      "source": [
        "import bigframes as bf\n",
        "import bigframes.pandas as bpd"
      ],
      "metadata": {
        "id": "QlW51RNDNEw-",
        "executionInfo": {
          "status": "ok",
          "timestamp": 1741397588668,
          "user_tz": 0,
          "elapsed": 997,
          "user": {
            "displayName": "",
            "userId": ""
          }
        }
      },
      "execution_count": 5,
      "outputs": []
    },
    {
      "cell_type": "markdown",
      "source": [
        "BigQuery DataFrames uses a BigQuery session internally to manage metadata on the service side. This session is tied to a location . BigQuery DataFrames uses the US multi-region as the default location, but you can use session_options.location to set a different location. Every query in a session is executed in the location where the session was created."
      ],
      "metadata": {
        "id": "wEQpRmHws1WW"
      }
    },
    {
      "cell_type": "code",
      "source": [
        "bf.options.bigquery.project = PROJECT_ID\n",
        "bf.options.bigquery.location = LOCATION"
      ],
      "metadata": {
        "id": "qR-GYJlTORxf",
        "executionInfo": {
          "status": "ok",
          "timestamp": 1741397592552,
          "user_tz": 0,
          "elapsed": 97,
          "user": {
            "displayName": "",
            "userId": ""
          }
        }
      },
      "execution_count": 6,
      "outputs": []
    },
    {
      "cell_type": "markdown",
      "source": [
        "If you want to reset the location of the created DataFrame or Series objects, reset the session by executing `bf.close_session()`. After that, you can reuse `bf.options.bigquery.location` to specify another lo"
      ],
      "metadata": {
        "id": "LlE01FGFsT8d"
      }
    },
    {
      "cell_type": "markdown",
      "source": [
        " #### **`read_gbq` function**\n",
        " The `read_gbq` method accepts either a fully-qualified table ID or a SQL query."
      ],
      "metadata": {
        "id": "Fugedzw5shoX"
      }
    },
    {
      "cell_type": "code",
      "source": [
        "df = bpd.read_gbq(\"bigquery-public-data.thelook_ecommerce.order_items\")\n",
        "df"
      ],
      "metadata": {
        "id": "RzXhD_KYNX25",
        "colab": {
          "base_uri": "https://localhost:8080/",
          "height": 1000
        },
        "executionInfo": {
          "status": "ok",
          "timestamp": 1741397612076,
          "user_tz": 0,
          "elapsed": 12884,
          "user": {
            "displayName": "",
            "userId": ""
          }
        },
        "outputId": "7e8871cd-ea43-42db-b157-07d5356dc72f"
      },
      "execution_count": 7,
      "outputs": [
        {
          "output_type": "display_data",
          "data": {
            "text/plain": [
              "<IPython.core.display.HTML object>"
            ],
            "text/html": [
              "Query job fb655b23-18f1-4f7c-9f6b-626f4dd1c83a is DONE. 0 Bytes processed. <a target=\"_blank\" href=\"https://console.cloud.google.com/bigquery?project=solid-pact-453100-d7&j=bq:US:fb655b23-18f1-4f7c-9f6b-626f4dd1c83a&page=queryresults\">Open Job</a>"
            ]
          },
          "metadata": {}
        },
        {
          "output_type": "display_data",
          "data": {
            "text/plain": [
              "<IPython.core.display.HTML object>"
            ],
            "text/html": [
              "Query job a800aa2e-aea6-4110-84b2-e60b10fbaa3f is DONE. 13.6 MB processed. <a target=\"_blank\" href=\"https://console.cloud.google.com/bigquery?project=solid-pact-453100-d7&j=bq:US:a800aa2e-aea6-4110-84b2-e60b10fbaa3f&page=queryresults\">Open Job</a>"
            ]
          },
          "metadata": {}
        },
        {
          "output_type": "display_data",
          "data": {
            "text/plain": [
              "<IPython.core.display.HTML object>"
            ],
            "text/html": [
              "Query job 7763a4b0-d078-4f50-a54d-a1ceace618ca is DONE. 16.5 MB processed. <a target=\"_blank\" href=\"https://console.cloud.google.com/bigquery?project=solid-pact-453100-d7&j=bq:US:7763a4b0-d078-4f50-a54d-a1ceace618ca&page=queryresults\">Open Job</a>"
            ]
          },
          "metadata": {}
        },
        {
          "output_type": "execute_result",
          "data": {
            "text/plain": [
              "        id  order_id  user_id  product_id  inventory_item_id      status  \\\n",
              "0    88285     60943    48676       19769             238465    Complete   \n",
              "1   144194     99472    79465       10972             389113    Returned   \n",
              "2    81249     56086    44796       12382             219374    Complete   \n",
              "3   172432    118936    94980       18870             465525  Processing   \n",
              "4     6910      4797     3774       19380              18628    Complete   \n",
              "5   150600    103897    82994        7284             406426    Complete   \n",
              "6    41263     28441    22730        5462             111425  Processing   \n",
              "7   101547     70115    55998        4628             274343     Shipped   \n",
              "8    59452     41081    32751       21474             160557   Cancelled   \n",
              "9     4691      3238     2539       16108              12658    Complete   \n",
              "10   32095     22159    17757        7764              86741    Complete   \n",
              "11   69685     48135    38445       12066             188205     Shipped   \n",
              "12   69076     47724    38131       22464             186562   Cancelled   \n",
              "13   94233     65068    51981       18318             254573  Processing   \n",
              "14    7286      5060     3968        5606              19659  Processing   \n",
              "15  130441     90027    71921       24487             352194     Shipped   \n",
              "16   25341     17496    14016        7682              68555  Processing   \n",
              "17    3141      2185     1701       18945               8467     Shipped   \n",
              "18   95965     66271    52939       17317             259225   Cancelled   \n",
              "19  164504    113468    90674       15575             444058     Shipped   \n",
              "20  169670    117006    93448       12214             458076   Cancelled   \n",
              "21   31432     21707    17387       15818              84956    Returned   \n",
              "22   55779     38524    30731       23559             150660   Cancelled   \n",
              "23   56952     39327    31373        4192             153804    Complete   \n",
              "24   90983     62824    50177       14133             245813  Processing   \n",
              "\n",
              "                          created_at                        shipped_at  \\\n",
              "0          2022-03-02 21:10:40+00:00         2022-03-04 21:19:00+00:00   \n",
              "1          2024-12-30 21:26:22+00:00         2024-12-31 20:47:00+00:00   \n",
              "2          2023-08-20 03:27:38+00:00         2023-08-22 04:01:00+00:00   \n",
              "3          2023-10-20 04:36:08+00:00                              <NA>   \n",
              "4          2022-11-15 01:08:04+00:00         2022-11-15 03:21:00+00:00   \n",
              "5          2021-08-28 07:37:05+00:00         2021-08-29 11:42:00+00:00   \n",
              "6          2024-09-15 02:38:50+00:00                              <NA>   \n",
              "7          2020-11-15 15:55:15+00:00         2020-11-17 12:00:00+00:00   \n",
              "8          2024-10-29 00:10:34+00:00                              <NA>   \n",
              "9          2025-01-23 15:25:45+00:00         2025-01-21 19:50:00+00:00   \n",
              "10         2024-10-07 09:15:50+00:00         2024-10-10 09:42:00+00:00   \n",
              "11         2022-02-13 01:00:54+00:00         2022-02-13 05:00:00+00:00   \n",
              "12         2024-05-22 05:53:13+00:00                              <NA>   \n",
              "13         2024-10-29 01:25:13+00:00                              <NA>   \n",
              "14         2023-02-01 09:59:55+00:00                              <NA>   \n",
              "15         2024-10-27 02:33:06+00:00         2024-10-24 23:36:00+00:00   \n",
              "16         2023-06-03 04:41:06+00:00                              <NA>   \n",
              "17         2023-03-16 05:00:11+00:00         2023-03-17 23:12:00+00:00   \n",
              "18         2021-09-04 10:51:16+00:00                              <NA>   \n",
              "19         2024-11-29 03:04:35+00:00         2024-11-30 16:22:00+00:00   \n",
              "20         2024-09-21 12:13:53+00:00                              <NA>   \n",
              "21  2025-03-09 02:20:54.593700+00:00  2025-03-07 05:21:22.593700+00:00   \n",
              "22         2025-02-16 08:47:17+00:00                              <NA>   \n",
              "23         2021-11-23 04:09:20+00:00         2021-11-25 03:06:00+00:00   \n",
              "24         2025-02-22 11:34:32+00:00                              <NA>   \n",
              "\n",
              "                        delivered_at                       returned_at  \\\n",
              "0          2022-03-08 14:21:00+00:00                              <NA>   \n",
              "1          2024-12-31 22:41:00+00:00         2025-01-03 05:34:00+00:00   \n",
              "2          2023-08-23 13:05:00+00:00                              <NA>   \n",
              "3                               <NA>                              <NA>   \n",
              "4          2022-11-19 12:30:00+00:00                              <NA>   \n",
              "5          2021-09-01 10:23:00+00:00                              <NA>   \n",
              "6                               <NA>                              <NA>   \n",
              "7                               <NA>                              <NA>   \n",
              "8                               <NA>                              <NA>   \n",
              "9          2025-01-22 10:32:00+00:00                              <NA>   \n",
              "10         2024-10-14 15:36:00+00:00                              <NA>   \n",
              "11                              <NA>                              <NA>   \n",
              "12                              <NA>                              <NA>   \n",
              "13                              <NA>                              <NA>   \n",
              "14                              <NA>                              <NA>   \n",
              "15                              <NA>                              <NA>   \n",
              "16                              <NA>                              <NA>   \n",
              "17                              <NA>                              <NA>   \n",
              "18                              <NA>                              <NA>   \n",
              "19                              <NA>                              <NA>   \n",
              "20                              <NA>                              <NA>   \n",
              "21  2025-03-10 12:49:22.593700+00:00  2025-03-13 10:32:22.593700+00:00   \n",
              "22                              <NA>                              <NA>   \n",
              "23         2021-11-26 14:23:00+00:00                              <NA>   \n",
              "24                              <NA>                              <NA>   \n",
              "\n",
              "    sale_price  \n",
              "0    32.990002  \n",
              "1        14.34  \n",
              "2    33.950001  \n",
              "3         25.0  \n",
              "4    95.989998  \n",
              "5         15.9  \n",
              "6    34.990002  \n",
              "7    77.970001  \n",
              "8    71.989998  \n",
              "9        26.16  \n",
              "10        44.5  \n",
              "11        24.0  \n",
              "12       145.0  \n",
              "13   82.949997  \n",
              "14        32.0  \n",
              "15       14.94  \n",
              "16   83.839996  \n",
              "17   37.740002  \n",
              "18   66.989998  \n",
              "19        4.95  \n",
              "20       19.99  \n",
              "21       19.93  \n",
              "22   52.950001  \n",
              "23        90.0  \n",
              "24        78.0  \n",
              "...\n",
              "\n",
              "[181530 rows x 11 columns]"
            ],
            "text/html": [
              "<div>\n",
              "<style scoped>\n",
              "    .dataframe tbody tr th:only-of-type {\n",
              "        vertical-align: middle;\n",
              "    }\n",
              "\n",
              "    .dataframe tbody tr th {\n",
              "        vertical-align: top;\n",
              "    }\n",
              "\n",
              "    .dataframe thead th {\n",
              "        text-align: right;\n",
              "    }\n",
              "</style>\n",
              "<table border=\"1\" class=\"dataframe\">\n",
              "  <thead>\n",
              "    <tr style=\"text-align: right;\">\n",
              "      <th></th>\n",
              "      <th>id</th>\n",
              "      <th>order_id</th>\n",
              "      <th>user_id</th>\n",
              "      <th>product_id</th>\n",
              "      <th>inventory_item_id</th>\n",
              "      <th>status</th>\n",
              "      <th>created_at</th>\n",
              "      <th>shipped_at</th>\n",
              "      <th>delivered_at</th>\n",
              "      <th>returned_at</th>\n",
              "      <th>sale_price</th>\n",
              "    </tr>\n",
              "  </thead>\n",
              "  <tbody>\n",
              "    <tr>\n",
              "      <th>0</th>\n",
              "      <td>88285</td>\n",
              "      <td>60943</td>\n",
              "      <td>48676</td>\n",
              "      <td>19769</td>\n",
              "      <td>238465</td>\n",
              "      <td>Complete</td>\n",
              "      <td>2022-03-02 21:10:40+00:00</td>\n",
              "      <td>2022-03-04 21:19:00+00:00</td>\n",
              "      <td>2022-03-08 14:21:00+00:00</td>\n",
              "      <td>&lt;NA&gt;</td>\n",
              "      <td>32.990002</td>\n",
              "    </tr>\n",
              "    <tr>\n",
              "      <th>1</th>\n",
              "      <td>144194</td>\n",
              "      <td>99472</td>\n",
              "      <td>79465</td>\n",
              "      <td>10972</td>\n",
              "      <td>389113</td>\n",
              "      <td>Returned</td>\n",
              "      <td>2024-12-30 21:26:22+00:00</td>\n",
              "      <td>2024-12-31 20:47:00+00:00</td>\n",
              "      <td>2024-12-31 22:41:00+00:00</td>\n",
              "      <td>2025-01-03 05:34:00+00:00</td>\n",
              "      <td>14.34</td>\n",
              "    </tr>\n",
              "    <tr>\n",
              "      <th>2</th>\n",
              "      <td>81249</td>\n",
              "      <td>56086</td>\n",
              "      <td>44796</td>\n",
              "      <td>12382</td>\n",
              "      <td>219374</td>\n",
              "      <td>Complete</td>\n",
              "      <td>2023-08-20 03:27:38+00:00</td>\n",
              "      <td>2023-08-22 04:01:00+00:00</td>\n",
              "      <td>2023-08-23 13:05:00+00:00</td>\n",
              "      <td>&lt;NA&gt;</td>\n",
              "      <td>33.950001</td>\n",
              "    </tr>\n",
              "    <tr>\n",
              "      <th>3</th>\n",
              "      <td>172432</td>\n",
              "      <td>118936</td>\n",
              "      <td>94980</td>\n",
              "      <td>18870</td>\n",
              "      <td>465525</td>\n",
              "      <td>Processing</td>\n",
              "      <td>2023-10-20 04:36:08+00:00</td>\n",
              "      <td>&lt;NA&gt;</td>\n",
              "      <td>&lt;NA&gt;</td>\n",
              "      <td>&lt;NA&gt;</td>\n",
              "      <td>25.0</td>\n",
              "    </tr>\n",
              "    <tr>\n",
              "      <th>4</th>\n",
              "      <td>6910</td>\n",
              "      <td>4797</td>\n",
              "      <td>3774</td>\n",
              "      <td>19380</td>\n",
              "      <td>18628</td>\n",
              "      <td>Complete</td>\n",
              "      <td>2022-11-15 01:08:04+00:00</td>\n",
              "      <td>2022-11-15 03:21:00+00:00</td>\n",
              "      <td>2022-11-19 12:30:00+00:00</td>\n",
              "      <td>&lt;NA&gt;</td>\n",
              "      <td>95.989998</td>\n",
              "    </tr>\n",
              "    <tr>\n",
              "      <th>5</th>\n",
              "      <td>150600</td>\n",
              "      <td>103897</td>\n",
              "      <td>82994</td>\n",
              "      <td>7284</td>\n",
              "      <td>406426</td>\n",
              "      <td>Complete</td>\n",
              "      <td>2021-08-28 07:37:05+00:00</td>\n",
              "      <td>2021-08-29 11:42:00+00:00</td>\n",
              "      <td>2021-09-01 10:23:00+00:00</td>\n",
              "      <td>&lt;NA&gt;</td>\n",
              "      <td>15.9</td>\n",
              "    </tr>\n",
              "    <tr>\n",
              "      <th>6</th>\n",
              "      <td>41263</td>\n",
              "      <td>28441</td>\n",
              "      <td>22730</td>\n",
              "      <td>5462</td>\n",
              "      <td>111425</td>\n",
              "      <td>Processing</td>\n",
              "      <td>2024-09-15 02:38:50+00:00</td>\n",
              "      <td>&lt;NA&gt;</td>\n",
              "      <td>&lt;NA&gt;</td>\n",
              "      <td>&lt;NA&gt;</td>\n",
              "      <td>34.990002</td>\n",
              "    </tr>\n",
              "    <tr>\n",
              "      <th>7</th>\n",
              "      <td>101547</td>\n",
              "      <td>70115</td>\n",
              "      <td>55998</td>\n",
              "      <td>4628</td>\n",
              "      <td>274343</td>\n",
              "      <td>Shipped</td>\n",
              "      <td>2020-11-15 15:55:15+00:00</td>\n",
              "      <td>2020-11-17 12:00:00+00:00</td>\n",
              "      <td>&lt;NA&gt;</td>\n",
              "      <td>&lt;NA&gt;</td>\n",
              "      <td>77.970001</td>\n",
              "    </tr>\n",
              "    <tr>\n",
              "      <th>8</th>\n",
              "      <td>59452</td>\n",
              "      <td>41081</td>\n",
              "      <td>32751</td>\n",
              "      <td>21474</td>\n",
              "      <td>160557</td>\n",
              "      <td>Cancelled</td>\n",
              "      <td>2024-10-29 00:10:34+00:00</td>\n",
              "      <td>&lt;NA&gt;</td>\n",
              "      <td>&lt;NA&gt;</td>\n",
              "      <td>&lt;NA&gt;</td>\n",
              "      <td>71.989998</td>\n",
              "    </tr>\n",
              "    <tr>\n",
              "      <th>9</th>\n",
              "      <td>4691</td>\n",
              "      <td>3238</td>\n",
              "      <td>2539</td>\n",
              "      <td>16108</td>\n",
              "      <td>12658</td>\n",
              "      <td>Complete</td>\n",
              "      <td>2025-01-23 15:25:45+00:00</td>\n",
              "      <td>2025-01-21 19:50:00+00:00</td>\n",
              "      <td>2025-01-22 10:32:00+00:00</td>\n",
              "      <td>&lt;NA&gt;</td>\n",
              "      <td>26.16</td>\n",
              "    </tr>\n",
              "    <tr>\n",
              "      <th>10</th>\n",
              "      <td>32095</td>\n",
              "      <td>22159</td>\n",
              "      <td>17757</td>\n",
              "      <td>7764</td>\n",
              "      <td>86741</td>\n",
              "      <td>Complete</td>\n",
              "      <td>2024-10-07 09:15:50+00:00</td>\n",
              "      <td>2024-10-10 09:42:00+00:00</td>\n",
              "      <td>2024-10-14 15:36:00+00:00</td>\n",
              "      <td>&lt;NA&gt;</td>\n",
              "      <td>44.5</td>\n",
              "    </tr>\n",
              "    <tr>\n",
              "      <th>11</th>\n",
              "      <td>69685</td>\n",
              "      <td>48135</td>\n",
              "      <td>38445</td>\n",
              "      <td>12066</td>\n",
              "      <td>188205</td>\n",
              "      <td>Shipped</td>\n",
              "      <td>2022-02-13 01:00:54+00:00</td>\n",
              "      <td>2022-02-13 05:00:00+00:00</td>\n",
              "      <td>&lt;NA&gt;</td>\n",
              "      <td>&lt;NA&gt;</td>\n",
              "      <td>24.0</td>\n",
              "    </tr>\n",
              "    <tr>\n",
              "      <th>12</th>\n",
              "      <td>69076</td>\n",
              "      <td>47724</td>\n",
              "      <td>38131</td>\n",
              "      <td>22464</td>\n",
              "      <td>186562</td>\n",
              "      <td>Cancelled</td>\n",
              "      <td>2024-05-22 05:53:13+00:00</td>\n",
              "      <td>&lt;NA&gt;</td>\n",
              "      <td>&lt;NA&gt;</td>\n",
              "      <td>&lt;NA&gt;</td>\n",
              "      <td>145.0</td>\n",
              "    </tr>\n",
              "    <tr>\n",
              "      <th>13</th>\n",
              "      <td>94233</td>\n",
              "      <td>65068</td>\n",
              "      <td>51981</td>\n",
              "      <td>18318</td>\n",
              "      <td>254573</td>\n",
              "      <td>Processing</td>\n",
              "      <td>2024-10-29 01:25:13+00:00</td>\n",
              "      <td>&lt;NA&gt;</td>\n",
              "      <td>&lt;NA&gt;</td>\n",
              "      <td>&lt;NA&gt;</td>\n",
              "      <td>82.949997</td>\n",
              "    </tr>\n",
              "    <tr>\n",
              "      <th>14</th>\n",
              "      <td>7286</td>\n",
              "      <td>5060</td>\n",
              "      <td>3968</td>\n",
              "      <td>5606</td>\n",
              "      <td>19659</td>\n",
              "      <td>Processing</td>\n",
              "      <td>2023-02-01 09:59:55+00:00</td>\n",
              "      <td>&lt;NA&gt;</td>\n",
              "      <td>&lt;NA&gt;</td>\n",
              "      <td>&lt;NA&gt;</td>\n",
              "      <td>32.0</td>\n",
              "    </tr>\n",
              "    <tr>\n",
              "      <th>15</th>\n",
              "      <td>130441</td>\n",
              "      <td>90027</td>\n",
              "      <td>71921</td>\n",
              "      <td>24487</td>\n",
              "      <td>352194</td>\n",
              "      <td>Shipped</td>\n",
              "      <td>2024-10-27 02:33:06+00:00</td>\n",
              "      <td>2024-10-24 23:36:00+00:00</td>\n",
              "      <td>&lt;NA&gt;</td>\n",
              "      <td>&lt;NA&gt;</td>\n",
              "      <td>14.94</td>\n",
              "    </tr>\n",
              "    <tr>\n",
              "      <th>16</th>\n",
              "      <td>25341</td>\n",
              "      <td>17496</td>\n",
              "      <td>14016</td>\n",
              "      <td>7682</td>\n",
              "      <td>68555</td>\n",
              "      <td>Processing</td>\n",
              "      <td>2023-06-03 04:41:06+00:00</td>\n",
              "      <td>&lt;NA&gt;</td>\n",
              "      <td>&lt;NA&gt;</td>\n",
              "      <td>&lt;NA&gt;</td>\n",
              "      <td>83.839996</td>\n",
              "    </tr>\n",
              "    <tr>\n",
              "      <th>17</th>\n",
              "      <td>3141</td>\n",
              "      <td>2185</td>\n",
              "      <td>1701</td>\n",
              "      <td>18945</td>\n",
              "      <td>8467</td>\n",
              "      <td>Shipped</td>\n",
              "      <td>2023-03-16 05:00:11+00:00</td>\n",
              "      <td>2023-03-17 23:12:00+00:00</td>\n",
              "      <td>&lt;NA&gt;</td>\n",
              "      <td>&lt;NA&gt;</td>\n",
              "      <td>37.740002</td>\n",
              "    </tr>\n",
              "    <tr>\n",
              "      <th>18</th>\n",
              "      <td>95965</td>\n",
              "      <td>66271</td>\n",
              "      <td>52939</td>\n",
              "      <td>17317</td>\n",
              "      <td>259225</td>\n",
              "      <td>Cancelled</td>\n",
              "      <td>2021-09-04 10:51:16+00:00</td>\n",
              "      <td>&lt;NA&gt;</td>\n",
              "      <td>&lt;NA&gt;</td>\n",
              "      <td>&lt;NA&gt;</td>\n",
              "      <td>66.989998</td>\n",
              "    </tr>\n",
              "    <tr>\n",
              "      <th>19</th>\n",
              "      <td>164504</td>\n",
              "      <td>113468</td>\n",
              "      <td>90674</td>\n",
              "      <td>15575</td>\n",
              "      <td>444058</td>\n",
              "      <td>Shipped</td>\n",
              "      <td>2024-11-29 03:04:35+00:00</td>\n",
              "      <td>2024-11-30 16:22:00+00:00</td>\n",
              "      <td>&lt;NA&gt;</td>\n",
              "      <td>&lt;NA&gt;</td>\n",
              "      <td>4.95</td>\n",
              "    </tr>\n",
              "    <tr>\n",
              "      <th>20</th>\n",
              "      <td>169670</td>\n",
              "      <td>117006</td>\n",
              "      <td>93448</td>\n",
              "      <td>12214</td>\n",
              "      <td>458076</td>\n",
              "      <td>Cancelled</td>\n",
              "      <td>2024-09-21 12:13:53+00:00</td>\n",
              "      <td>&lt;NA&gt;</td>\n",
              "      <td>&lt;NA&gt;</td>\n",
              "      <td>&lt;NA&gt;</td>\n",
              "      <td>19.99</td>\n",
              "    </tr>\n",
              "    <tr>\n",
              "      <th>21</th>\n",
              "      <td>31432</td>\n",
              "      <td>21707</td>\n",
              "      <td>17387</td>\n",
              "      <td>15818</td>\n",
              "      <td>84956</td>\n",
              "      <td>Returned</td>\n",
              "      <td>2025-03-09 02:20:54.593700+00:00</td>\n",
              "      <td>2025-03-07 05:21:22.593700+00:00</td>\n",
              "      <td>2025-03-10 12:49:22.593700+00:00</td>\n",
              "      <td>2025-03-13 10:32:22.593700+00:00</td>\n",
              "      <td>19.93</td>\n",
              "    </tr>\n",
              "    <tr>\n",
              "      <th>22</th>\n",
              "      <td>55779</td>\n",
              "      <td>38524</td>\n",
              "      <td>30731</td>\n",
              "      <td>23559</td>\n",
              "      <td>150660</td>\n",
              "      <td>Cancelled</td>\n",
              "      <td>2025-02-16 08:47:17+00:00</td>\n",
              "      <td>&lt;NA&gt;</td>\n",
              "      <td>&lt;NA&gt;</td>\n",
              "      <td>&lt;NA&gt;</td>\n",
              "      <td>52.950001</td>\n",
              "    </tr>\n",
              "    <tr>\n",
              "      <th>23</th>\n",
              "      <td>56952</td>\n",
              "      <td>39327</td>\n",
              "      <td>31373</td>\n",
              "      <td>4192</td>\n",
              "      <td>153804</td>\n",
              "      <td>Complete</td>\n",
              "      <td>2021-11-23 04:09:20+00:00</td>\n",
              "      <td>2021-11-25 03:06:00+00:00</td>\n",
              "      <td>2021-11-26 14:23:00+00:00</td>\n",
              "      <td>&lt;NA&gt;</td>\n",
              "      <td>90.0</td>\n",
              "    </tr>\n",
              "    <tr>\n",
              "      <th>24</th>\n",
              "      <td>90983</td>\n",
              "      <td>62824</td>\n",
              "      <td>50177</td>\n",
              "      <td>14133</td>\n",
              "      <td>245813</td>\n",
              "      <td>Processing</td>\n",
              "      <td>2025-02-22 11:34:32+00:00</td>\n",
              "      <td>&lt;NA&gt;</td>\n",
              "      <td>&lt;NA&gt;</td>\n",
              "      <td>&lt;NA&gt;</td>\n",
              "      <td>78.0</td>\n",
              "    </tr>\n",
              "  </tbody>\n",
              "</table>\n",
              "<p>25 rows × 11 columns</p>\n",
              "</div>[181530 rows x 11 columns in total]"
            ]
          },
          "metadata": {},
          "execution_count": 7
        }
      ]
    },
    {
      "cell_type": "markdown",
      "source": [
        "#### **Restricting Dataframe columns**\n",
        "Next, Choosing a restricted set of features for the purpose of conducting feature engineering."
      ],
      "metadata": {
        "id": "xC0_CcriIO9J"
      }
    },
    {
      "cell_type": "code",
      "source": [
        "df = df[[\"user_id\", \"order_id\", \"sale_price\", \"created_at\", \"status\"]].rename(columns={\"created_at\": \"order_created_date\"})\n",
        "df"
      ],
      "metadata": {
        "id": "kdNMJnBLOvi6",
        "colab": {
          "base_uri": "https://localhost:8080/",
          "height": 887
        },
        "executionInfo": {
          "status": "ok",
          "timestamp": 1741397787363,
          "user_tz": 0,
          "elapsed": 2754,
          "user": {
            "displayName": "",
            "userId": ""
          }
        },
        "outputId": "97d508bc-0a83-4481-a252-6acbaa2aceab"
      },
      "execution_count": 10,
      "outputs": [
        {
          "output_type": "display_data",
          "data": {
            "text/plain": [
              "<IPython.core.display.HTML object>"
            ],
            "text/html": [
              "Query job 8acb3d5c-06ee-43c7-a28b-0fc25ab772fc is DONE. 10.6 MB processed. <a target=\"_blank\" href=\"https://console.cloud.google.com/bigquery?project=solid-pact-453100-d7&j=bq:US:8acb3d5c-06ee-43c7-a28b-0fc25ab772fc&page=queryresults\">Open Job</a>"
            ]
          },
          "metadata": {}
        },
        {
          "output_type": "execute_result",
          "data": {
            "text/plain": [
              "    user_id  order_id  sale_price                order_created_date  \\\n",
              "0     48676     60943   32.990002         2022-03-02 21:10:40+00:00   \n",
              "1     79465     99472       14.34         2024-12-30 21:26:22+00:00   \n",
              "2     44796     56086   33.950001         2023-08-20 03:27:38+00:00   \n",
              "3     94980    118936        25.0         2023-10-20 04:36:08+00:00   \n",
              "4      3774      4797   95.989998         2022-11-15 01:08:04+00:00   \n",
              "5     82994    103897        15.9         2021-08-28 07:37:05+00:00   \n",
              "6     22730     28441   34.990002         2024-09-15 02:38:50+00:00   \n",
              "7     55998     70115   77.970001         2020-11-15 15:55:15+00:00   \n",
              "8     32751     41081   71.989998         2024-10-29 00:10:34+00:00   \n",
              "9      2539      3238       26.16         2025-01-23 15:25:45+00:00   \n",
              "10    17757     22159        44.5         2024-10-07 09:15:50+00:00   \n",
              "11    38445     48135        24.0         2022-02-13 01:00:54+00:00   \n",
              "12    38131     47724       145.0         2024-05-22 05:53:13+00:00   \n",
              "13    51981     65068   82.949997         2024-10-29 01:25:13+00:00   \n",
              "14     3968      5060        32.0         2023-02-01 09:59:55+00:00   \n",
              "15    71921     90027       14.94         2024-10-27 02:33:06+00:00   \n",
              "16    14016     17496   83.839996         2023-06-03 04:41:06+00:00   \n",
              "17     1701      2185   37.740002         2023-03-16 05:00:11+00:00   \n",
              "18    52939     66271   66.989998         2021-09-04 10:51:16+00:00   \n",
              "19    90674    113468        4.95         2024-11-29 03:04:35+00:00   \n",
              "20    93448    117006       19.99         2024-09-21 12:13:53+00:00   \n",
              "21    17387     21707       19.93  2025-03-09 02:20:54.593700+00:00   \n",
              "22    30731     38524   52.950001         2025-02-16 08:47:17+00:00   \n",
              "23    31373     39327        90.0         2021-11-23 04:09:20+00:00   \n",
              "24    50177     62824        78.0         2025-02-22 11:34:32+00:00   \n",
              "\n",
              "        status  \n",
              "0     Complete  \n",
              "1     Returned  \n",
              "2     Complete  \n",
              "3   Processing  \n",
              "4     Complete  \n",
              "5     Complete  \n",
              "6   Processing  \n",
              "7      Shipped  \n",
              "8    Cancelled  \n",
              "9     Complete  \n",
              "10    Complete  \n",
              "11     Shipped  \n",
              "12   Cancelled  \n",
              "13  Processing  \n",
              "14  Processing  \n",
              "15     Shipped  \n",
              "16  Processing  \n",
              "17     Shipped  \n",
              "18   Cancelled  \n",
              "19     Shipped  \n",
              "20   Cancelled  \n",
              "21    Returned  \n",
              "22   Cancelled  \n",
              "23    Complete  \n",
              "24  Processing  \n",
              "...\n",
              "\n",
              "[181530 rows x 5 columns]"
            ],
            "text/html": [
              "<div>\n",
              "<style scoped>\n",
              "    .dataframe tbody tr th:only-of-type {\n",
              "        vertical-align: middle;\n",
              "    }\n",
              "\n",
              "    .dataframe tbody tr th {\n",
              "        vertical-align: top;\n",
              "    }\n",
              "\n",
              "    .dataframe thead th {\n",
              "        text-align: right;\n",
              "    }\n",
              "</style>\n",
              "<table border=\"1\" class=\"dataframe\">\n",
              "  <thead>\n",
              "    <tr style=\"text-align: right;\">\n",
              "      <th></th>\n",
              "      <th>user_id</th>\n",
              "      <th>order_id</th>\n",
              "      <th>sale_price</th>\n",
              "      <th>order_created_date</th>\n",
              "      <th>status</th>\n",
              "    </tr>\n",
              "  </thead>\n",
              "  <tbody>\n",
              "    <tr>\n",
              "      <th>0</th>\n",
              "      <td>48676</td>\n",
              "      <td>60943</td>\n",
              "      <td>32.990002</td>\n",
              "      <td>2022-03-02 21:10:40+00:00</td>\n",
              "      <td>Complete</td>\n",
              "    </tr>\n",
              "    <tr>\n",
              "      <th>1</th>\n",
              "      <td>79465</td>\n",
              "      <td>99472</td>\n",
              "      <td>14.34</td>\n",
              "      <td>2024-12-30 21:26:22+00:00</td>\n",
              "      <td>Returned</td>\n",
              "    </tr>\n",
              "    <tr>\n",
              "      <th>2</th>\n",
              "      <td>44796</td>\n",
              "      <td>56086</td>\n",
              "      <td>33.950001</td>\n",
              "      <td>2023-08-20 03:27:38+00:00</td>\n",
              "      <td>Complete</td>\n",
              "    </tr>\n",
              "    <tr>\n",
              "      <th>3</th>\n",
              "      <td>94980</td>\n",
              "      <td>118936</td>\n",
              "      <td>25.0</td>\n",
              "      <td>2023-10-20 04:36:08+00:00</td>\n",
              "      <td>Processing</td>\n",
              "    </tr>\n",
              "    <tr>\n",
              "      <th>4</th>\n",
              "      <td>3774</td>\n",
              "      <td>4797</td>\n",
              "      <td>95.989998</td>\n",
              "      <td>2022-11-15 01:08:04+00:00</td>\n",
              "      <td>Complete</td>\n",
              "    </tr>\n",
              "    <tr>\n",
              "      <th>5</th>\n",
              "      <td>82994</td>\n",
              "      <td>103897</td>\n",
              "      <td>15.9</td>\n",
              "      <td>2021-08-28 07:37:05+00:00</td>\n",
              "      <td>Complete</td>\n",
              "    </tr>\n",
              "    <tr>\n",
              "      <th>6</th>\n",
              "      <td>22730</td>\n",
              "      <td>28441</td>\n",
              "      <td>34.990002</td>\n",
              "      <td>2024-09-15 02:38:50+00:00</td>\n",
              "      <td>Processing</td>\n",
              "    </tr>\n",
              "    <tr>\n",
              "      <th>7</th>\n",
              "      <td>55998</td>\n",
              "      <td>70115</td>\n",
              "      <td>77.970001</td>\n",
              "      <td>2020-11-15 15:55:15+00:00</td>\n",
              "      <td>Shipped</td>\n",
              "    </tr>\n",
              "    <tr>\n",
              "      <th>8</th>\n",
              "      <td>32751</td>\n",
              "      <td>41081</td>\n",
              "      <td>71.989998</td>\n",
              "      <td>2024-10-29 00:10:34+00:00</td>\n",
              "      <td>Cancelled</td>\n",
              "    </tr>\n",
              "    <tr>\n",
              "      <th>9</th>\n",
              "      <td>2539</td>\n",
              "      <td>3238</td>\n",
              "      <td>26.16</td>\n",
              "      <td>2025-01-23 15:25:45+00:00</td>\n",
              "      <td>Complete</td>\n",
              "    </tr>\n",
              "    <tr>\n",
              "      <th>10</th>\n",
              "      <td>17757</td>\n",
              "      <td>22159</td>\n",
              "      <td>44.5</td>\n",
              "      <td>2024-10-07 09:15:50+00:00</td>\n",
              "      <td>Complete</td>\n",
              "    </tr>\n",
              "    <tr>\n",
              "      <th>11</th>\n",
              "      <td>38445</td>\n",
              "      <td>48135</td>\n",
              "      <td>24.0</td>\n",
              "      <td>2022-02-13 01:00:54+00:00</td>\n",
              "      <td>Shipped</td>\n",
              "    </tr>\n",
              "    <tr>\n",
              "      <th>12</th>\n",
              "      <td>38131</td>\n",
              "      <td>47724</td>\n",
              "      <td>145.0</td>\n",
              "      <td>2024-05-22 05:53:13+00:00</td>\n",
              "      <td>Cancelled</td>\n",
              "    </tr>\n",
              "    <tr>\n",
              "      <th>13</th>\n",
              "      <td>51981</td>\n",
              "      <td>65068</td>\n",
              "      <td>82.949997</td>\n",
              "      <td>2024-10-29 01:25:13+00:00</td>\n",
              "      <td>Processing</td>\n",
              "    </tr>\n",
              "    <tr>\n",
              "      <th>14</th>\n",
              "      <td>3968</td>\n",
              "      <td>5060</td>\n",
              "      <td>32.0</td>\n",
              "      <td>2023-02-01 09:59:55+00:00</td>\n",
              "      <td>Processing</td>\n",
              "    </tr>\n",
              "    <tr>\n",
              "      <th>15</th>\n",
              "      <td>71921</td>\n",
              "      <td>90027</td>\n",
              "      <td>14.94</td>\n",
              "      <td>2024-10-27 02:33:06+00:00</td>\n",
              "      <td>Shipped</td>\n",
              "    </tr>\n",
              "    <tr>\n",
              "      <th>16</th>\n",
              "      <td>14016</td>\n",
              "      <td>17496</td>\n",
              "      <td>83.839996</td>\n",
              "      <td>2023-06-03 04:41:06+00:00</td>\n",
              "      <td>Processing</td>\n",
              "    </tr>\n",
              "    <tr>\n",
              "      <th>17</th>\n",
              "      <td>1701</td>\n",
              "      <td>2185</td>\n",
              "      <td>37.740002</td>\n",
              "      <td>2023-03-16 05:00:11+00:00</td>\n",
              "      <td>Shipped</td>\n",
              "    </tr>\n",
              "    <tr>\n",
              "      <th>18</th>\n",
              "      <td>52939</td>\n",
              "      <td>66271</td>\n",
              "      <td>66.989998</td>\n",
              "      <td>2021-09-04 10:51:16+00:00</td>\n",
              "      <td>Cancelled</td>\n",
              "    </tr>\n",
              "    <tr>\n",
              "      <th>19</th>\n",
              "      <td>90674</td>\n",
              "      <td>113468</td>\n",
              "      <td>4.95</td>\n",
              "      <td>2024-11-29 03:04:35+00:00</td>\n",
              "      <td>Shipped</td>\n",
              "    </tr>\n",
              "    <tr>\n",
              "      <th>20</th>\n",
              "      <td>93448</td>\n",
              "      <td>117006</td>\n",
              "      <td>19.99</td>\n",
              "      <td>2024-09-21 12:13:53+00:00</td>\n",
              "      <td>Cancelled</td>\n",
              "    </tr>\n",
              "    <tr>\n",
              "      <th>21</th>\n",
              "      <td>17387</td>\n",
              "      <td>21707</td>\n",
              "      <td>19.93</td>\n",
              "      <td>2025-03-09 02:20:54.593700+00:00</td>\n",
              "      <td>Returned</td>\n",
              "    </tr>\n",
              "    <tr>\n",
              "      <th>22</th>\n",
              "      <td>30731</td>\n",
              "      <td>38524</td>\n",
              "      <td>52.950001</td>\n",
              "      <td>2025-02-16 08:47:17+00:00</td>\n",
              "      <td>Cancelled</td>\n",
              "    </tr>\n",
              "    <tr>\n",
              "      <th>23</th>\n",
              "      <td>31373</td>\n",
              "      <td>39327</td>\n",
              "      <td>90.0</td>\n",
              "      <td>2021-11-23 04:09:20+00:00</td>\n",
              "      <td>Complete</td>\n",
              "    </tr>\n",
              "    <tr>\n",
              "      <th>24</th>\n",
              "      <td>50177</td>\n",
              "      <td>62824</td>\n",
              "      <td>78.0</td>\n",
              "      <td>2025-02-22 11:34:32+00:00</td>\n",
              "      <td>Processing</td>\n",
              "    </tr>\n",
              "  </tbody>\n",
              "</table>\n",
              "<p>25 rows × 5 columns</p>\n",
              "</div>[181530 rows x 5 columns in total]"
            ]
          },
          "metadata": {},
          "execution_count": 10
        }
      ]
    },
    {
      "cell_type": "markdown",
      "source": [
        "#### **Restricting the dataset to data spanning one year**"
      ],
      "metadata": {
        "id": "HtznpFFnJZqO"
      }
    },
    {
      "cell_type": "code",
      "source": [
        "df = df[df[\"order_created_date\"] > \"2022-01-01\"]\n",
        "df = df[df[\"order_created_date\"] < \"2023-01-01\"]\n",
        "df"
      ],
      "metadata": {
        "id": "9QVWdVT5PXmI",
        "colab": {
          "base_uri": "https://localhost:8080/",
          "height": 904
        },
        "executionInfo": {
          "status": "ok",
          "timestamp": 1741397852202,
          "user_tz": 0,
          "elapsed": 6364,
          "user": {
            "displayName": "",
            "userId": ""
          }
        },
        "outputId": "ba666498-f7c7-4b49-daf6-4844866c945e"
      },
      "execution_count": 11,
      "outputs": [
        {
          "output_type": "display_data",
          "data": {
            "text/plain": [
              "<IPython.core.display.HTML object>"
            ],
            "text/html": [
              "Query job ca7e5b41-f6cc-425c-b769-c824094a54ea is DONE. 10.6 MB processed. <a target=\"_blank\" href=\"https://console.cloud.google.com/bigquery?project=solid-pact-453100-d7&j=bq:US:ca7e5b41-f6cc-425c-b769-c824094a54ea&page=queryresults\">Open Job</a>"
            ]
          },
          "metadata": {}
        },
        {
          "output_type": "display_data",
          "data": {
            "text/plain": [
              "<IPython.core.display.HTML object>"
            ],
            "text/html": [
              "Query job 42d7cee0-52a1-4269-99c5-457a44f0c62f is DONE. 1.4 MB processed. <a target=\"_blank\" href=\"https://console.cloud.google.com/bigquery?project=solid-pact-453100-d7&j=bq:US:42d7cee0-52a1-4269-99c5-457a44f0c62f&page=queryresults\">Open Job</a>"
            ]
          },
          "metadata": {}
        },
        {
          "output_type": "execute_result",
          "data": {
            "text/plain": [
              "     user_id  order_id  sale_price         order_created_date      status\n",
              "0      48676     60943   32.990002  2022-03-02 21:10:40+00:00    Complete\n",
              "4       3774      4797   95.989998  2022-11-15 01:08:04+00:00    Complete\n",
              "11     38445     48135        24.0  2022-02-13 01:00:54+00:00     Shipped\n",
              "36     51676     64696       14.99  2022-08-15 12:23:36+00:00    Complete\n",
              "42      6675      8463        12.8  2022-09-07 22:45:03+00:00     Shipped\n",
              "43     22230     27797        49.0  2022-07-17 08:18:20+00:00     Shipped\n",
              "51     26515     33160   79.949997  2022-06-03 02:58:32+00:00     Shipped\n",
              "57     63891     79984        85.0  2022-03-20 08:27:42+00:00    Complete\n",
              "59     70407     88124        35.0  2022-12-25 02:05:27+00:00    Complete\n",
              "69     81571    102105        8.94  2022-04-19 02:57:01+00:00     Shipped\n",
              "82     23409     29320       14.99  2022-03-23 09:01:14+00:00     Shipped\n",
              "89     34410     43153   34.990002  2022-11-15 14:59:03+00:00   Cancelled\n",
              "102    56944     71290   56.990002  2022-12-02 00:22:03+00:00    Complete\n",
              "105    26958     33739   58.970001  2022-07-23 06:41:13+00:00     Shipped\n",
              "107    17936     22381        68.0  2022-02-06 01:14:22+00:00    Complete\n",
              "111    15813     19727   53.290001  2022-10-23 07:05:11+00:00  Processing\n",
              "115    73924     92541       19.99  2022-05-01 15:53:03+00:00     Shipped\n",
              "125    43752     54794        24.0  2022-12-15 07:05:35+00:00  Processing\n",
              "126    57214     71615   34.650002  2022-01-16 01:16:38+00:00  Processing\n",
              "142    65245     81658        9.99  2022-11-09 08:36:47+00:00   Cancelled\n",
              "165    95696    119810   39.990002  2022-08-11 01:53:03+00:00     Shipped\n",
              "173    83096    104023   69.989998  2022-07-28 09:37:00+00:00  Processing\n",
              "177    75338     94290       14.34  2022-05-27 13:20:12+00:00     Shipped\n",
              "189    39773     49746        79.5  2022-11-19 05:26:33+00:00     Shipped\n",
              "204    89849    112422   65.400002  2022-10-05 02:14:42+00:00    Complete\n",
              "...\n",
              "\n",
              "[23785 rows x 5 columns]"
            ],
            "text/html": [
              "<div>\n",
              "<style scoped>\n",
              "    .dataframe tbody tr th:only-of-type {\n",
              "        vertical-align: middle;\n",
              "    }\n",
              "\n",
              "    .dataframe tbody tr th {\n",
              "        vertical-align: top;\n",
              "    }\n",
              "\n",
              "    .dataframe thead th {\n",
              "        text-align: right;\n",
              "    }\n",
              "</style>\n",
              "<table border=\"1\" class=\"dataframe\">\n",
              "  <thead>\n",
              "    <tr style=\"text-align: right;\">\n",
              "      <th></th>\n",
              "      <th>user_id</th>\n",
              "      <th>order_id</th>\n",
              "      <th>sale_price</th>\n",
              "      <th>order_created_date</th>\n",
              "      <th>status</th>\n",
              "    </tr>\n",
              "  </thead>\n",
              "  <tbody>\n",
              "    <tr>\n",
              "      <th>0</th>\n",
              "      <td>48676</td>\n",
              "      <td>60943</td>\n",
              "      <td>32.990002</td>\n",
              "      <td>2022-03-02 21:10:40+00:00</td>\n",
              "      <td>Complete</td>\n",
              "    </tr>\n",
              "    <tr>\n",
              "      <th>4</th>\n",
              "      <td>3774</td>\n",
              "      <td>4797</td>\n",
              "      <td>95.989998</td>\n",
              "      <td>2022-11-15 01:08:04+00:00</td>\n",
              "      <td>Complete</td>\n",
              "    </tr>\n",
              "    <tr>\n",
              "      <th>11</th>\n",
              "      <td>38445</td>\n",
              "      <td>48135</td>\n",
              "      <td>24.0</td>\n",
              "      <td>2022-02-13 01:00:54+00:00</td>\n",
              "      <td>Shipped</td>\n",
              "    </tr>\n",
              "    <tr>\n",
              "      <th>36</th>\n",
              "      <td>51676</td>\n",
              "      <td>64696</td>\n",
              "      <td>14.99</td>\n",
              "      <td>2022-08-15 12:23:36+00:00</td>\n",
              "      <td>Complete</td>\n",
              "    </tr>\n",
              "    <tr>\n",
              "      <th>42</th>\n",
              "      <td>6675</td>\n",
              "      <td>8463</td>\n",
              "      <td>12.8</td>\n",
              "      <td>2022-09-07 22:45:03+00:00</td>\n",
              "      <td>Shipped</td>\n",
              "    </tr>\n",
              "    <tr>\n",
              "      <th>43</th>\n",
              "      <td>22230</td>\n",
              "      <td>27797</td>\n",
              "      <td>49.0</td>\n",
              "      <td>2022-07-17 08:18:20+00:00</td>\n",
              "      <td>Shipped</td>\n",
              "    </tr>\n",
              "    <tr>\n",
              "      <th>51</th>\n",
              "      <td>26515</td>\n",
              "      <td>33160</td>\n",
              "      <td>79.949997</td>\n",
              "      <td>2022-06-03 02:58:32+00:00</td>\n",
              "      <td>Shipped</td>\n",
              "    </tr>\n",
              "    <tr>\n",
              "      <th>57</th>\n",
              "      <td>63891</td>\n",
              "      <td>79984</td>\n",
              "      <td>85.0</td>\n",
              "      <td>2022-03-20 08:27:42+00:00</td>\n",
              "      <td>Complete</td>\n",
              "    </tr>\n",
              "    <tr>\n",
              "      <th>59</th>\n",
              "      <td>70407</td>\n",
              "      <td>88124</td>\n",
              "      <td>35.0</td>\n",
              "      <td>2022-12-25 02:05:27+00:00</td>\n",
              "      <td>Complete</td>\n",
              "    </tr>\n",
              "    <tr>\n",
              "      <th>69</th>\n",
              "      <td>81571</td>\n",
              "      <td>102105</td>\n",
              "      <td>8.94</td>\n",
              "      <td>2022-04-19 02:57:01+00:00</td>\n",
              "      <td>Shipped</td>\n",
              "    </tr>\n",
              "    <tr>\n",
              "      <th>82</th>\n",
              "      <td>23409</td>\n",
              "      <td>29320</td>\n",
              "      <td>14.99</td>\n",
              "      <td>2022-03-23 09:01:14+00:00</td>\n",
              "      <td>Shipped</td>\n",
              "    </tr>\n",
              "    <tr>\n",
              "      <th>89</th>\n",
              "      <td>34410</td>\n",
              "      <td>43153</td>\n",
              "      <td>34.990002</td>\n",
              "      <td>2022-11-15 14:59:03+00:00</td>\n",
              "      <td>Cancelled</td>\n",
              "    </tr>\n",
              "    <tr>\n",
              "      <th>102</th>\n",
              "      <td>56944</td>\n",
              "      <td>71290</td>\n",
              "      <td>56.990002</td>\n",
              "      <td>2022-12-02 00:22:03+00:00</td>\n",
              "      <td>Complete</td>\n",
              "    </tr>\n",
              "    <tr>\n",
              "      <th>105</th>\n",
              "      <td>26958</td>\n",
              "      <td>33739</td>\n",
              "      <td>58.970001</td>\n",
              "      <td>2022-07-23 06:41:13+00:00</td>\n",
              "      <td>Shipped</td>\n",
              "    </tr>\n",
              "    <tr>\n",
              "      <th>107</th>\n",
              "      <td>17936</td>\n",
              "      <td>22381</td>\n",
              "      <td>68.0</td>\n",
              "      <td>2022-02-06 01:14:22+00:00</td>\n",
              "      <td>Complete</td>\n",
              "    </tr>\n",
              "    <tr>\n",
              "      <th>111</th>\n",
              "      <td>15813</td>\n",
              "      <td>19727</td>\n",
              "      <td>53.290001</td>\n",
              "      <td>2022-10-23 07:05:11+00:00</td>\n",
              "      <td>Processing</td>\n",
              "    </tr>\n",
              "    <tr>\n",
              "      <th>115</th>\n",
              "      <td>73924</td>\n",
              "      <td>92541</td>\n",
              "      <td>19.99</td>\n",
              "      <td>2022-05-01 15:53:03+00:00</td>\n",
              "      <td>Shipped</td>\n",
              "    </tr>\n",
              "    <tr>\n",
              "      <th>125</th>\n",
              "      <td>43752</td>\n",
              "      <td>54794</td>\n",
              "      <td>24.0</td>\n",
              "      <td>2022-12-15 07:05:35+00:00</td>\n",
              "      <td>Processing</td>\n",
              "    </tr>\n",
              "    <tr>\n",
              "      <th>126</th>\n",
              "      <td>57214</td>\n",
              "      <td>71615</td>\n",
              "      <td>34.650002</td>\n",
              "      <td>2022-01-16 01:16:38+00:00</td>\n",
              "      <td>Processing</td>\n",
              "    </tr>\n",
              "    <tr>\n",
              "      <th>142</th>\n",
              "      <td>65245</td>\n",
              "      <td>81658</td>\n",
              "      <td>9.99</td>\n",
              "      <td>2022-11-09 08:36:47+00:00</td>\n",
              "      <td>Cancelled</td>\n",
              "    </tr>\n",
              "    <tr>\n",
              "      <th>165</th>\n",
              "      <td>95696</td>\n",
              "      <td>119810</td>\n",
              "      <td>39.990002</td>\n",
              "      <td>2022-08-11 01:53:03+00:00</td>\n",
              "      <td>Shipped</td>\n",
              "    </tr>\n",
              "    <tr>\n",
              "      <th>173</th>\n",
              "      <td>83096</td>\n",
              "      <td>104023</td>\n",
              "      <td>69.989998</td>\n",
              "      <td>2022-07-28 09:37:00+00:00</td>\n",
              "      <td>Processing</td>\n",
              "    </tr>\n",
              "    <tr>\n",
              "      <th>177</th>\n",
              "      <td>75338</td>\n",
              "      <td>94290</td>\n",
              "      <td>14.34</td>\n",
              "      <td>2022-05-27 13:20:12+00:00</td>\n",
              "      <td>Shipped</td>\n",
              "    </tr>\n",
              "    <tr>\n",
              "      <th>189</th>\n",
              "      <td>39773</td>\n",
              "      <td>49746</td>\n",
              "      <td>79.5</td>\n",
              "      <td>2022-11-19 05:26:33+00:00</td>\n",
              "      <td>Shipped</td>\n",
              "    </tr>\n",
              "    <tr>\n",
              "      <th>204</th>\n",
              "      <td>89849</td>\n",
              "      <td>112422</td>\n",
              "      <td>65.400002</td>\n",
              "      <td>2022-10-05 02:14:42+00:00</td>\n",
              "      <td>Complete</td>\n",
              "    </tr>\n",
              "  </tbody>\n",
              "</table>\n",
              "<p>25 rows × 5 columns</p>\n",
              "</div>[23785 rows x 5 columns in total]"
            ]
          },
          "metadata": {},
          "execution_count": 11
        }
      ]
    },
    {
      "cell_type": "markdown",
      "source": [
        "## Step 2 : Feature Engineering using BigQuery Dataframes"
      ],
      "metadata": {
        "id": "uIt9rmX4JTYW"
      }
    },
    {
      "cell_type": "markdown",
      "source": [
        "## Create features for k-means model.\n",
        "\n",
        "We intend to compute features such as the total number of orders per customer, average spending per customer, and the return ratio, calculated as the total number of returns divided by the number of orders."
      ],
      "metadata": {
        "id": "8RDvQSsqrryy"
      }
    },
    {
      "cell_type": "markdown",
      "source": [
        "#### **Calculating total number of orders per customer**"
      ],
      "metadata": {
        "id": "w1rh8N_rKFsU"
      }
    },
    {
      "cell_type": "code",
      "source": [
        "count_orders = df.groupby([\"user_id\"])[\"order_id\"].count()\n",
        "count_orders"
      ],
      "metadata": {
        "id": "GR47wGItaiXl",
        "colab": {
          "base_uri": "https://localhost:8080/",
          "height": 510
        },
        "executionInfo": {
          "status": "ok",
          "timestamp": 1741397932150,
          "user_tz": 0,
          "elapsed": 6002,
          "user": {
            "displayName": "",
            "userId": ""
          }
        },
        "outputId": "9f961418-ea67-46e3-ab49-bf902fa4db6f"
      },
      "execution_count": 12,
      "outputs": [
        {
          "output_type": "display_data",
          "data": {
            "text/plain": [
              "<IPython.core.display.HTML object>"
            ],
            "text/html": [
              "Query job 411ac9b4-5da9-48f0-aaad-35053de3fd4e is DONE. 380.6 kB processed. <a target=\"_blank\" href=\"https://console.cloud.google.com/bigquery?project=solid-pact-453100-d7&j=bq:US:411ac9b4-5da9-48f0-aaad-35053de3fd4e&page=queryresults\">Open Job</a>"
            ]
          },
          "metadata": {}
        },
        {
          "output_type": "display_data",
          "data": {
            "text/plain": [
              "<IPython.core.display.HTML object>"
            ],
            "text/html": [
              "Query job 478d6e6d-8048-43b2-8881-8d88f19fd0c9 is DONE. 348.2 kB processed. <a target=\"_blank\" href=\"https://console.cloud.google.com/bigquery?project=solid-pact-453100-d7&j=bq:US:478d6e6d-8048-43b2-8881-8d88f19fd0c9&page=queryresults\">Open Job</a>"
            ]
          },
          "metadata": {}
        },
        {
          "output_type": "execute_result",
          "data": {
            "text/plain": [
              "user_id\n",
              "1      2\n",
              "15     1\n",
              "25     2\n",
              "26     1\n",
              "31     1\n",
              "32     2\n",
              "33     4\n",
              "51     7\n",
              "79     2\n",
              "94     2\n",
              "98     1\n",
              "104    1\n",
              "114    1\n",
              "116    2\n",
              "135    2\n",
              "136    1\n",
              "138    1\n",
              "139    2\n",
              "152    1\n",
              "173    1\n",
              "175    2\n",
              "186    1\n",
              "188    1\n",
              "189    1\n",
              "191    2\n",
              "Name: order_id, dtype: Int64"
            ]
          },
          "metadata": {},
          "execution_count": 12
        }
      ]
    },
    {
      "cell_type": "markdown",
      "source": [
        "#### **Calculating average spend per customer**"
      ],
      "metadata": {
        "id": "yFnCXVd9KNK5"
      }
    },
    {
      "cell_type": "code",
      "source": [
        "average_spend = df.groupby([\"user_id\"])[\"sale_price\"].mean()\n",
        "average_spend"
      ],
      "metadata": {
        "id": "tRPfIxrqa6O9",
        "colab": {
          "base_uri": "https://localhost:8080/",
          "height": 510
        },
        "executionInfo": {
          "status": "ok",
          "timestamp": 1741397965653,
          "user_tz": 0,
          "elapsed": 5890,
          "user": {
            "displayName": "",
            "userId": ""
          }
        },
        "outputId": "fd2b6ac0-5323-414e-a166-4ff68926b783"
      },
      "execution_count": 13,
      "outputs": [
        {
          "output_type": "display_data",
          "data": {
            "text/plain": [
              "<IPython.core.display.HTML object>"
            ],
            "text/html": [
              "Query job 7b2600c9-4c87-44b5-b44a-270097cba3fd is DONE. 380.6 kB processed. <a target=\"_blank\" href=\"https://console.cloud.google.com/bigquery?project=solid-pact-453100-d7&j=bq:US:7b2600c9-4c87-44b5-b44a-270097cba3fd&page=queryresults\">Open Job</a>"
            ]
          },
          "metadata": {}
        },
        {
          "output_type": "display_data",
          "data": {
            "text/plain": [
              "<IPython.core.display.HTML object>"
            ],
            "text/html": [
              "Query job 513b4db9-d70f-4ee0-8e46-31a0f878c627 is DONE. 348.2 kB processed. <a target=\"_blank\" href=\"https://console.cloud.google.com/bigquery?project=solid-pact-453100-d7&j=bq:US:513b4db9-d70f-4ee0-8e46-31a0f878c627&page=queryresults\">Open Job</a>"
            ]
          },
          "metadata": {}
        },
        {
          "output_type": "execute_result",
          "data": {
            "text/plain": [
              "user_id\n",
              "1            56.5\n",
              "15           15.0\n",
              "25          93.92\n",
              "26           7.98\n",
              "31           8.99\n",
              "32          32.69\n",
              "33      26.482501\n",
              "51          45.23\n",
              "79          29.95\n",
              "94         44.995\n",
              "98     164.949997\n",
              "104     38.119999\n",
              "114         21.99\n",
              "116     54.309999\n",
              "135     62.044998\n",
              "136          32.5\n",
              "138          56.0\n",
              "139     81.994999\n",
              "152          25.0\n",
              "173         249.0\n",
              "175    144.485001\n",
              "186     49.950001\n",
              "188     68.949997\n",
              "189    159.949997\n",
              "191     56.974999\n",
              "Name: sale_price, dtype: Float64"
            ]
          },
          "metadata": {},
          "execution_count": 13
        }
      ]
    },
    {
      "cell_type": "markdown",
      "source": [
        "#### **Calculating total number of returned orders per customer**"
      ],
      "metadata": {
        "id": "qcRAFUPnOZvD"
      }
    },
    {
      "cell_type": "code",
      "source": [
        "df[\"returned\"] = df[\"status\"] == \"Returned\"\n",
        "returned = df.groupby([\"user_id\"])[\"returned\"].sum()\n",
        "returned"
      ],
      "metadata": {
        "id": "DYERzNIA9IJh",
        "colab": {
          "base_uri": "https://localhost:8080/",
          "height": 510
        },
        "executionInfo": {
          "status": "ok",
          "timestamp": 1741397998005,
          "user_tz": 0,
          "elapsed": 5895,
          "user": {
            "displayName": "",
            "userId": ""
          }
        },
        "outputId": "ac2ed876-660b-43fe-e525-31632d0b09c3"
      },
      "execution_count": 14,
      "outputs": [
        {
          "output_type": "display_data",
          "data": {
            "text/plain": [
              "<IPython.core.display.HTML object>"
            ],
            "text/html": [
              "Query job 15651bf7-b55d-4671-b435-c944364a5d33 is DONE. 434.3 kB processed. <a target=\"_blank\" href=\"https://console.cloud.google.com/bigquery?project=solid-pact-453100-d7&j=bq:US:15651bf7-b55d-4671-b435-c944364a5d33&page=queryresults\">Open Job</a>"
            ]
          },
          "metadata": {}
        },
        {
          "output_type": "display_data",
          "data": {
            "text/plain": [
              "<IPython.core.display.HTML object>"
            ],
            "text/html": [
              "Query job b86551f1-4299-4f67-967b-4fb01cd6e4be is DONE. 348.2 kB processed. <a target=\"_blank\" href=\"https://console.cloud.google.com/bigquery?project=solid-pact-453100-d7&j=bq:US:b86551f1-4299-4f67-967b-4fb01cd6e4be&page=queryresults\">Open Job</a>"
            ]
          },
          "metadata": {}
        },
        {
          "output_type": "execute_result",
          "data": {
            "text/plain": [
              "user_id\n",
              "1      0\n",
              "15     1\n",
              "25     0\n",
              "26     1\n",
              "31     0\n",
              "32     0\n",
              "33     0\n",
              "51     0\n",
              "79     2\n",
              "94     0\n",
              "98     0\n",
              "104    0\n",
              "114    0\n",
              "116    0\n",
              "135    2\n",
              "136    0\n",
              "138    0\n",
              "139    0\n",
              "152    1\n",
              "173    0\n",
              "175    0\n",
              "186    0\n",
              "188    0\n",
              "189    0\n",
              "191    0\n",
              "Name: returned, dtype: Int64"
            ]
          },
          "metadata": {},
          "execution_count": 14
        }
      ]
    },
    {
      "cell_type": "markdown",
      "source": [
        "#### **Calculating return ratio per customer**"
      ],
      "metadata": {
        "id": "VvfvSw0QOe9N"
      }
    },
    {
      "cell_type": "code",
      "source": [
        "return_ratio = returned / count_orders\n",
        "return_ratio"
      ],
      "metadata": {
        "id": "SUvwp6LIAuhc",
        "colab": {
          "base_uri": "https://localhost:8080/",
          "height": 510
        },
        "executionInfo": {
          "status": "ok",
          "timestamp": 1741398033402,
          "user_tz": 0,
          "elapsed": 5798,
          "user": {
            "displayName": "",
            "userId": ""
          }
        },
        "outputId": "9fac60b7-1319-49b6-df45-9db0e4768ff0"
      },
      "execution_count": 15,
      "outputs": [
        {
          "output_type": "display_data",
          "data": {
            "text/plain": [
              "<IPython.core.display.HTML object>"
            ],
            "text/html": [
              "Query job 25ed79ce-2893-4dc2-8041-f159198f7f94 is DONE. 696.5 kB processed. <a target=\"_blank\" href=\"https://console.cloud.google.com/bigquery?project=solid-pact-453100-d7&j=bq:US:25ed79ce-2893-4dc2-8041-f159198f7f94&page=queryresults\">Open Job</a>"
            ]
          },
          "metadata": {}
        },
        {
          "output_type": "display_data",
          "data": {
            "text/plain": [
              "<IPython.core.display.HTML object>"
            ],
            "text/html": [
              "Query job 73f440d4-3e00-4013-ad7b-47f1bc3939b0 is DONE. 348.2 kB processed. <a target=\"_blank\" href=\"https://console.cloud.google.com/bigquery?project=solid-pact-453100-d7&j=bq:US:73f440d4-3e00-4013-ad7b-47f1bc3939b0&page=queryresults\">Open Job</a>"
            ]
          },
          "metadata": {}
        },
        {
          "output_type": "execute_result",
          "data": {
            "text/plain": [
              "user_id\n",
              "1      0.0\n",
              "15     1.0\n",
              "25     0.0\n",
              "26     1.0\n",
              "31     0.0\n",
              "32     0.0\n",
              "33     0.0\n",
              "51     0.0\n",
              "79     1.0\n",
              "94     0.0\n",
              "98     0.0\n",
              "104    0.0\n",
              "114    0.0\n",
              "116    0.0\n",
              "135    1.0\n",
              "136    0.0\n",
              "138    0.0\n",
              "139    0.0\n",
              "152    1.0\n",
              "173    0.0\n",
              "175    0.0\n",
              "186    0.0\n",
              "188    0.0\n",
              "189    0.0\n",
              "191    0.0\n",
              "dtype: Float64"
            ]
          },
          "metadata": {},
          "execution_count": 15
        }
      ]
    },
    {
      "cell_type": "markdown",
      "source": [
        "#### **Compiling a conclusive dataframe for the development of a machine learning model for customer segmentation.**"
      ],
      "metadata": {
        "id": "NBNq6Ub3Oik8"
      }
    },
    {
      "cell_type": "code",
      "source": [
        "df_customer = count_orders.rename(\"count_orders\").to_frame()\n",
        "df_customer[\"average_spend\"] = average_spend\n",
        "df_customer[\"return_ratio\"] = return_ratio\n",
        "df_customer"
      ],
      "metadata": {
        "id": "GMjuuLQg_eKh",
        "colab": {
          "base_uri": "https://localhost:8080/",
          "height": 935
        },
        "executionInfo": {
          "status": "ok",
          "timestamp": 1741398069625,
          "user_tz": 0,
          "elapsed": 6708,
          "user": {
            "displayName": "",
            "userId": ""
          }
        },
        "outputId": "1970c0b6-af76-45e4-c341-d8d67b48c830"
      },
      "execution_count": 16,
      "outputs": [
        {
          "output_type": "display_data",
          "data": {
            "text/plain": [
              "<IPython.core.display.HTML object>"
            ],
            "text/html": [
              "Query job 3175fb5f-a7b3-4056-9c6e-a499b69d00e3 is DONE. 1.0 MB processed. <a target=\"_blank\" href=\"https://console.cloud.google.com/bigquery?project=solid-pact-453100-d7&j=bq:US:3175fb5f-a7b3-4056-9c6e-a499b69d00e3&page=queryresults\">Open Job</a>"
            ]
          },
          "metadata": {}
        },
        {
          "output_type": "display_data",
          "data": {
            "text/plain": [
              "<IPython.core.display.HTML object>"
            ],
            "text/html": [
              "Query job 9ccb466e-e286-4677-8df5-19d67294a29b is DONE. 580.4 kB processed. <a target=\"_blank\" href=\"https://console.cloud.google.com/bigquery?project=solid-pact-453100-d7&j=bq:US:9ccb466e-e286-4677-8df5-19d67294a29b&page=queryresults\">Open Job</a>"
            ]
          },
          "metadata": {}
        },
        {
          "output_type": "execute_result",
          "data": {
            "text/plain": [
              "         count_orders  average_spend  return_ratio\n",
              "user_id                                           \n",
              "1                   2           56.5           0.0\n",
              "15                  1           15.0           1.0\n",
              "25                  2          93.92           0.0\n",
              "26                  1           7.98           1.0\n",
              "31                  1           8.99           0.0\n",
              "32                  2          32.69           0.0\n",
              "33                  4      26.482501           0.0\n",
              "51                  7          45.23           0.0\n",
              "79                  2          29.95           1.0\n",
              "94                  2         44.995           0.0\n",
              "98                  1     164.949997           0.0\n",
              "104                 1      38.119999           0.0\n",
              "114                 1          21.99           0.0\n",
              "116                 2      54.309999           0.0\n",
              "135                 2      62.044998           1.0\n",
              "136                 1           32.5           0.0\n",
              "138                 1           56.0           0.0\n",
              "139                 2      81.994999           0.0\n",
              "152                 1           25.0           1.0\n",
              "173                 1          249.0           0.0\n",
              "175                 2     144.485001           0.0\n",
              "186                 1      49.950001           0.0\n",
              "188                 1      68.949997           0.0\n",
              "189                 1     159.949997           0.0\n",
              "191                 2      56.974999           0.0\n",
              "...\n",
              "\n",
              "[14510 rows x 3 columns]"
            ],
            "text/html": [
              "<div>\n",
              "<style scoped>\n",
              "    .dataframe tbody tr th:only-of-type {\n",
              "        vertical-align: middle;\n",
              "    }\n",
              "\n",
              "    .dataframe tbody tr th {\n",
              "        vertical-align: top;\n",
              "    }\n",
              "\n",
              "    .dataframe thead th {\n",
              "        text-align: right;\n",
              "    }\n",
              "</style>\n",
              "<table border=\"1\" class=\"dataframe\">\n",
              "  <thead>\n",
              "    <tr style=\"text-align: right;\">\n",
              "      <th></th>\n",
              "      <th>count_orders</th>\n",
              "      <th>average_spend</th>\n",
              "      <th>return_ratio</th>\n",
              "    </tr>\n",
              "    <tr>\n",
              "      <th>user_id</th>\n",
              "      <th></th>\n",
              "      <th></th>\n",
              "      <th></th>\n",
              "    </tr>\n",
              "  </thead>\n",
              "  <tbody>\n",
              "    <tr>\n",
              "      <th>1</th>\n",
              "      <td>2</td>\n",
              "      <td>56.5</td>\n",
              "      <td>0.0</td>\n",
              "    </tr>\n",
              "    <tr>\n",
              "      <th>15</th>\n",
              "      <td>1</td>\n",
              "      <td>15.0</td>\n",
              "      <td>1.0</td>\n",
              "    </tr>\n",
              "    <tr>\n",
              "      <th>25</th>\n",
              "      <td>2</td>\n",
              "      <td>93.92</td>\n",
              "      <td>0.0</td>\n",
              "    </tr>\n",
              "    <tr>\n",
              "      <th>26</th>\n",
              "      <td>1</td>\n",
              "      <td>7.98</td>\n",
              "      <td>1.0</td>\n",
              "    </tr>\n",
              "    <tr>\n",
              "      <th>31</th>\n",
              "      <td>1</td>\n",
              "      <td>8.99</td>\n",
              "      <td>0.0</td>\n",
              "    </tr>\n",
              "    <tr>\n",
              "      <th>32</th>\n",
              "      <td>2</td>\n",
              "      <td>32.69</td>\n",
              "      <td>0.0</td>\n",
              "    </tr>\n",
              "    <tr>\n",
              "      <th>33</th>\n",
              "      <td>4</td>\n",
              "      <td>26.482501</td>\n",
              "      <td>0.0</td>\n",
              "    </tr>\n",
              "    <tr>\n",
              "      <th>51</th>\n",
              "      <td>7</td>\n",
              "      <td>45.23</td>\n",
              "      <td>0.0</td>\n",
              "    </tr>\n",
              "    <tr>\n",
              "      <th>79</th>\n",
              "      <td>2</td>\n",
              "      <td>29.95</td>\n",
              "      <td>1.0</td>\n",
              "    </tr>\n",
              "    <tr>\n",
              "      <th>94</th>\n",
              "      <td>2</td>\n",
              "      <td>44.995</td>\n",
              "      <td>0.0</td>\n",
              "    </tr>\n",
              "    <tr>\n",
              "      <th>98</th>\n",
              "      <td>1</td>\n",
              "      <td>164.949997</td>\n",
              "      <td>0.0</td>\n",
              "    </tr>\n",
              "    <tr>\n",
              "      <th>104</th>\n",
              "      <td>1</td>\n",
              "      <td>38.119999</td>\n",
              "      <td>0.0</td>\n",
              "    </tr>\n",
              "    <tr>\n",
              "      <th>114</th>\n",
              "      <td>1</td>\n",
              "      <td>21.99</td>\n",
              "      <td>0.0</td>\n",
              "    </tr>\n",
              "    <tr>\n",
              "      <th>116</th>\n",
              "      <td>2</td>\n",
              "      <td>54.309999</td>\n",
              "      <td>0.0</td>\n",
              "    </tr>\n",
              "    <tr>\n",
              "      <th>135</th>\n",
              "      <td>2</td>\n",
              "      <td>62.044998</td>\n",
              "      <td>1.0</td>\n",
              "    </tr>\n",
              "    <tr>\n",
              "      <th>136</th>\n",
              "      <td>1</td>\n",
              "      <td>32.5</td>\n",
              "      <td>0.0</td>\n",
              "    </tr>\n",
              "    <tr>\n",
              "      <th>138</th>\n",
              "      <td>1</td>\n",
              "      <td>56.0</td>\n",
              "      <td>0.0</td>\n",
              "    </tr>\n",
              "    <tr>\n",
              "      <th>139</th>\n",
              "      <td>2</td>\n",
              "      <td>81.994999</td>\n",
              "      <td>0.0</td>\n",
              "    </tr>\n",
              "    <tr>\n",
              "      <th>152</th>\n",
              "      <td>1</td>\n",
              "      <td>25.0</td>\n",
              "      <td>1.0</td>\n",
              "    </tr>\n",
              "    <tr>\n",
              "      <th>173</th>\n",
              "      <td>1</td>\n",
              "      <td>249.0</td>\n",
              "      <td>0.0</td>\n",
              "    </tr>\n",
              "    <tr>\n",
              "      <th>175</th>\n",
              "      <td>2</td>\n",
              "      <td>144.485001</td>\n",
              "      <td>0.0</td>\n",
              "    </tr>\n",
              "    <tr>\n",
              "      <th>186</th>\n",
              "      <td>1</td>\n",
              "      <td>49.950001</td>\n",
              "      <td>0.0</td>\n",
              "    </tr>\n",
              "    <tr>\n",
              "      <th>188</th>\n",
              "      <td>1</td>\n",
              "      <td>68.949997</td>\n",
              "      <td>0.0</td>\n",
              "    </tr>\n",
              "    <tr>\n",
              "      <th>189</th>\n",
              "      <td>1</td>\n",
              "      <td>159.949997</td>\n",
              "      <td>0.0</td>\n",
              "    </tr>\n",
              "    <tr>\n",
              "      <th>191</th>\n",
              "      <td>2</td>\n",
              "      <td>56.974999</td>\n",
              "      <td>0.0</td>\n",
              "    </tr>\n",
              "  </tbody>\n",
              "</table>\n",
              "<p>25 rows × 3 columns</p>\n",
              "</div>[14510 rows x 3 columns in total]"
            ]
          },
          "metadata": {},
          "execution_count": 16
        }
      ]
    },
    {
      "cell_type": "markdown",
      "source": [
        "## Step 3 : Create a k-means model to cluster ecommerce data\n",
        "\n",
        "**K-means** is a widely used clustering algorithm that can dentify distinct groups or clusters within a dataset. With eCommerce data, k-means can segment customers, products, or transactions into meaningful groups for various analytical and business purposes.\n",
        "\n",
        "\n",
        "#### **Cluster the customer data using BigFrames!**"
      ],
      "metadata": {
        "id": "WnXQQOAc4t22"
      }
    },
    {
      "cell_type": "code",
      "source": [
        "from bigframes.ml.cluster import KMeans\n",
        "from bigframes.ml.model_selection import train_test_split\n",
        "\n",
        "# Split test and training data\n",
        "df_customer = df_customer.dropna()\n",
        "train_X, test_X = train_test_split(df_customer, test_size = 0.2)\n",
        "# train_X = train_X.drop(columns = [\"user_id\"])\n",
        "# Create a K-Means cluster model\n",
        "kmeans = KMeans(n_clusters = 5)\n",
        "kmeans.fit(train_X)\n"
      ],
      "metadata": {
        "id": "cWQ9botFf2Te",
        "colab": {
          "base_uri": "https://localhost:8080/",
          "height": 85
        },
        "executionInfo": {
          "status": "ok",
          "timestamp": 1741398217819,
          "user_tz": 0,
          "elapsed": 72622,
          "user": {
            "displayName": "",
            "userId": ""
          }
        },
        "outputId": "8160afb6-58d7-4f1c-fef8-d84261c9be30"
      },
      "execution_count": 17,
      "outputs": [
        {
          "output_type": "display_data",
          "data": {
            "text/plain": [
              "<IPython.core.display.HTML object>"
            ],
            "text/html": [
              "Query job eca1b9f2-2335-4f4a-846c-e1afff36951b is DONE. 348.2 kB processed. <a target=\"_blank\" href=\"https://console.cloud.google.com/bigquery?project=solid-pact-453100-d7&j=bq:US:eca1b9f2-2335-4f4a-846c-e1afff36951b&page=queryresults\">Open Job</a>"
            ]
          },
          "metadata": {}
        },
        {
          "output_type": "display_data",
          "data": {
            "text/plain": [
              "<IPython.core.display.HTML object>"
            ],
            "text/html": [
              "Query job ab257b4c-6257-4496-b821-4757c548248d is DONE. 464.3 kB processed. <a target=\"_blank\" href=\"https://console.cloud.google.com/bigquery?project=solid-pact-453100-d7&j=bq:US:ab257b4c-6257-4496-b821-4757c548248d&page=queryresults\">Open Job</a>"
            ]
          },
          "metadata": {}
        },
        {
          "output_type": "display_data",
          "data": {
            "text/plain": [
              "<IPython.core.display.HTML object>"
            ],
            "text/html": [
              "Query job 23889ed8-7e1c-4271-8a4c-c9e621ac17f4 is DONE. 278.6 kB processed. <a target=\"_blank\" href=\"https://console.cloud.google.com/bigquery?project=solid-pact-453100-d7&j=bq:US:23889ed8-7e1c-4271-8a4c-c9e621ac17f4&page=queryresults\">Open Job</a>"
            ]
          },
          "metadata": {}
        },
        {
          "output_type": "execute_result",
          "data": {
            "text/plain": [
              "KMeans(n_clusters=5)"
            ]
          },
          "metadata": {},
          "execution_count": 17
        }
      ]
    },
    {
      "cell_type": "markdown",
      "source": [
        "#### **Save the model to BigQuery**"
      ],
      "metadata": {
        "id": "iABA1HcDO4Wd"
      }
    },
    {
      "cell_type": "code",
      "source": [
        "kmeans.to_gbq(f\"{PROJECT_ID}.{DATASET_NAME}.{MODEL_NAME}\", True)"
      ],
      "metadata": {
        "id": "8cMH1oeBB5jh",
        "colab": {
          "base_uri": "https://localhost:8080/",
          "height": 51
        },
        "executionInfo": {
          "status": "ok",
          "timestamp": 1741398314125,
          "user_tz": 0,
          "elapsed": 2916,
          "user": {
            "displayName": "",
            "userId": ""
          }
        },
        "outputId": "24ddc7bc-e004-4c55-f852-7bce913e1f0c"
      },
      "execution_count": 18,
      "outputs": [
        {
          "output_type": "display_data",
          "data": {
            "text/plain": [
              "<IPython.core.display.HTML object>"
            ],
            "text/html": [
              "Copy job cca7e534-3e91-48ac-9833-81e92decf015 is DONE. <a target=\"_blank\" href=\"https://console.cloud.google.com/bigquery?project=solid-pact-453100-d7&j=bq:US:cca7e534-3e91-48ac-9833-81e92decf015&page=queryresults\">Open Job</a>"
            ]
          },
          "metadata": {}
        },
        {
          "output_type": "execute_result",
          "data": {
            "text/plain": [
              "KMeans(distance_type='EUCLIDEAN', init='KMEANS_PLUS_PLUS', n_clusters=5)"
            ]
          },
          "metadata": {},
          "execution_count": 18
        }
      ]
    },
    {
      "cell_type": "markdown",
      "source": [
        "#### **Visualize the clusters**\n",
        "\n",
        "Next we'll visualize the k-means clusters on a scatterplot. We'll chart `days_since_last_order` by `average_spend` and color by segment/cluster_id generated from the model."
      ],
      "metadata": {
        "id": "81nwv2QE-mlh"
      }
    },
    {
      "cell_type": "code",
      "source": [
        "#########################\n",
        "#Plot K-Means clusters\n",
        "#########################\n",
        "import seaborn as sns\n",
        "import matplotlib.pyplot as plt\n",
        "import pandas as pd\n",
        "\n",
        "# Import K-Means predictions to dataframe\n",
        "segments_df = kmeans.predict(df_customer)\n",
        "segments_df = segments_df.rename(columns={'CENTROID_ID': 'segment_id'})\n",
        "segments_pd = segments_df.sample(frac=0.2, random_state=1).to_pandas()\n",
        "\n",
        "segments_pd\n"
      ],
      "metadata": {
        "id": "Ld5HJJlKGlXK",
        "colab": {
          "base_uri": "https://localhost:8080/",
          "height": 484
        },
        "executionInfo": {
          "status": "ok",
          "timestamp": 1741398511498,
          "user_tz": 0,
          "elapsed": 11413,
          "user": {
            "displayName": "",
            "userId": ""
          }
        },
        "outputId": "251caf05-5807-402d-c33c-44fe19e207da"
      },
      "execution_count": 19,
      "outputs": [
        {
          "output_type": "display_data",
          "data": {
            "text/plain": [
              "<IPython.core.display.HTML object>"
            ],
            "text/html": [
              "Query job ee47ef5b-b002-4eeb-8813-8ed8918e3046 is DONE. 464.6 kB processed. <a target=\"_blank\" href=\"https://console.cloud.google.com/bigquery?project=solid-pact-453100-d7&j=bq:US:ee47ef5b-b002-4eeb-8813-8ed8918e3046&page=queryresults\">Open Job</a>"
            ]
          },
          "metadata": {}
        },
        {
          "output_type": "display_data",
          "data": {
            "text/plain": [
              "<IPython.core.display.HTML object>"
            ],
            "text/html": [
              "Query job cc066450-094f-4082-aecf-c056b82d1d33 is DONE. 1.7 MB processed. <a target=\"_blank\" href=\"https://console.cloud.google.com/bigquery?project=solid-pact-453100-d7&j=bq:US:cc066450-094f-4082-aecf-c056b82d1d33&page=queryresults\">Open Job</a>"
            ]
          },
          "metadata": {}
        },
        {
          "output_type": "execute_result",
          "data": {
            "text/plain": [
              "         segment_id                         NEAREST_CENTROIDS_DISTANCE  \\\n",
              "user_id                                                                  \n",
              "186               2  [{'CENTROID_ID': 2, 'DISTANCE': 0.327247323316...   \n",
              "53663             4  [{'CENTROID_ID': 4, 'DISTANCE': 0.325594342005...   \n",
              "77664             2  [{'CENTROID_ID': 2, 'DISTANCE': 0.583924016671...   \n",
              "7251              4  [{'CENTROID_ID': 4, 'DISTANCE': 0.515746758097...   \n",
              "20871             2  [{'CENTROID_ID': 2, 'DISTANCE': 0.402192755317...   \n",
              "...             ...                                                ...   \n",
              "92539             4  [{'CENTROID_ID': 4, 'DISTANCE': 0.404034737348...   \n",
              "86289             4  [{'CENTROID_ID': 4, 'DISTANCE': 0.840362090033...   \n",
              "73969             2  [{'CENTROID_ID': 2, 'DISTANCE': 0.318322716780...   \n",
              "99970             2  [{'CENTROID_ID': 2, 'DISTANCE': 0.327745990294...   \n",
              "91800             2  [{'CENTROID_ID': 2, 'DISTANCE': 0.448029779756...   \n",
              "\n",
              "         count_orders  average_spend  return_ratio  \n",
              "user_id                                             \n",
              "186                 1      49.950001           0.0  \n",
              "53663               4         52.945           0.0  \n",
              "77664               1           69.5           0.0  \n",
              "7251                4        33.8775           0.0  \n",
              "20871               1          19.99           0.0  \n",
              "...               ...            ...           ...  \n",
              "92539               4          43.11           0.0  \n",
              "86289               3          30.98           0.0  \n",
              "73969               1      49.029999           0.0  \n",
              "99970               1           50.0           0.0  \n",
              "91800               1           60.0           0.0  \n",
              "\n",
              "[2902 rows x 5 columns]"
            ],
            "text/html": [
              "\n",
              "  <div id=\"df-9141b4e9-db83-4237-af2e-a09c10f44b6d\" class=\"colab-df-container\">\n",
              "    <div>\n",
              "<style scoped>\n",
              "    .dataframe tbody tr th:only-of-type {\n",
              "        vertical-align: middle;\n",
              "    }\n",
              "\n",
              "    .dataframe tbody tr th {\n",
              "        vertical-align: top;\n",
              "    }\n",
              "\n",
              "    .dataframe thead th {\n",
              "        text-align: right;\n",
              "    }\n",
              "</style>\n",
              "<table border=\"1\" class=\"dataframe\">\n",
              "  <thead>\n",
              "    <tr style=\"text-align: right;\">\n",
              "      <th></th>\n",
              "      <th>segment_id</th>\n",
              "      <th>NEAREST_CENTROIDS_DISTANCE</th>\n",
              "      <th>count_orders</th>\n",
              "      <th>average_spend</th>\n",
              "      <th>return_ratio</th>\n",
              "    </tr>\n",
              "    <tr>\n",
              "      <th>user_id</th>\n",
              "      <th></th>\n",
              "      <th></th>\n",
              "      <th></th>\n",
              "      <th></th>\n",
              "      <th></th>\n",
              "    </tr>\n",
              "  </thead>\n",
              "  <tbody>\n",
              "    <tr>\n",
              "      <th>186</th>\n",
              "      <td>2</td>\n",
              "      <td>[{'CENTROID_ID': 2, 'DISTANCE': 0.327247323316...</td>\n",
              "      <td>1</td>\n",
              "      <td>49.950001</td>\n",
              "      <td>0.0</td>\n",
              "    </tr>\n",
              "    <tr>\n",
              "      <th>53663</th>\n",
              "      <td>4</td>\n",
              "      <td>[{'CENTROID_ID': 4, 'DISTANCE': 0.325594342005...</td>\n",
              "      <td>4</td>\n",
              "      <td>52.945</td>\n",
              "      <td>0.0</td>\n",
              "    </tr>\n",
              "    <tr>\n",
              "      <th>77664</th>\n",
              "      <td>2</td>\n",
              "      <td>[{'CENTROID_ID': 2, 'DISTANCE': 0.583924016671...</td>\n",
              "      <td>1</td>\n",
              "      <td>69.5</td>\n",
              "      <td>0.0</td>\n",
              "    </tr>\n",
              "    <tr>\n",
              "      <th>7251</th>\n",
              "      <td>4</td>\n",
              "      <td>[{'CENTROID_ID': 4, 'DISTANCE': 0.515746758097...</td>\n",
              "      <td>4</td>\n",
              "      <td>33.8775</td>\n",
              "      <td>0.0</td>\n",
              "    </tr>\n",
              "    <tr>\n",
              "      <th>20871</th>\n",
              "      <td>2</td>\n",
              "      <td>[{'CENTROID_ID': 2, 'DISTANCE': 0.402192755317...</td>\n",
              "      <td>1</td>\n",
              "      <td>19.99</td>\n",
              "      <td>0.0</td>\n",
              "    </tr>\n",
              "    <tr>\n",
              "      <th>...</th>\n",
              "      <td>...</td>\n",
              "      <td>...</td>\n",
              "      <td>...</td>\n",
              "      <td>...</td>\n",
              "      <td>...</td>\n",
              "    </tr>\n",
              "    <tr>\n",
              "      <th>92539</th>\n",
              "      <td>4</td>\n",
              "      <td>[{'CENTROID_ID': 4, 'DISTANCE': 0.404034737348...</td>\n",
              "      <td>4</td>\n",
              "      <td>43.11</td>\n",
              "      <td>0.0</td>\n",
              "    </tr>\n",
              "    <tr>\n",
              "      <th>86289</th>\n",
              "      <td>4</td>\n",
              "      <td>[{'CENTROID_ID': 4, 'DISTANCE': 0.840362090033...</td>\n",
              "      <td>3</td>\n",
              "      <td>30.98</td>\n",
              "      <td>0.0</td>\n",
              "    </tr>\n",
              "    <tr>\n",
              "      <th>73969</th>\n",
              "      <td>2</td>\n",
              "      <td>[{'CENTROID_ID': 2, 'DISTANCE': 0.318322716780...</td>\n",
              "      <td>1</td>\n",
              "      <td>49.029999</td>\n",
              "      <td>0.0</td>\n",
              "    </tr>\n",
              "    <tr>\n",
              "      <th>99970</th>\n",
              "      <td>2</td>\n",
              "      <td>[{'CENTROID_ID': 2, 'DISTANCE': 0.327745990294...</td>\n",
              "      <td>1</td>\n",
              "      <td>50.0</td>\n",
              "      <td>0.0</td>\n",
              "    </tr>\n",
              "    <tr>\n",
              "      <th>91800</th>\n",
              "      <td>2</td>\n",
              "      <td>[{'CENTROID_ID': 2, 'DISTANCE': 0.448029779756...</td>\n",
              "      <td>1</td>\n",
              "      <td>60.0</td>\n",
              "      <td>0.0</td>\n",
              "    </tr>\n",
              "  </tbody>\n",
              "</table>\n",
              "<p>2902 rows × 5 columns</p>\n",
              "</div>\n",
              "    <div class=\"colab-df-buttons\">\n",
              "\n",
              "  <div class=\"colab-df-container\">\n",
              "    <button class=\"colab-df-convert\" onclick=\"convertToInteractive('df-9141b4e9-db83-4237-af2e-a09c10f44b6d')\"\n",
              "            title=\"Convert this dataframe to an interactive table.\"\n",
              "            style=\"display:none;\">\n",
              "\n",
              "  <svg xmlns=\"http://www.w3.org/2000/svg\" height=\"24px\" viewBox=\"0 -960 960 960\">\n",
              "    <path d=\"M120-120v-720h720v720H120Zm60-500h600v-160H180v160Zm220 220h160v-160H400v160Zm0 220h160v-160H400v160ZM180-400h160v-160H180v160Zm440 0h160v-160H620v160ZM180-180h160v-160H180v160Zm440 0h160v-160H620v160Z\"/>\n",
              "  </svg>\n",
              "    </button>\n",
              "\n",
              "  <style>\n",
              "    .colab-df-container {\n",
              "      display:flex;\n",
              "      gap: 12px;\n",
              "    }\n",
              "\n",
              "    .colab-df-convert {\n",
              "      background-color: #E8F0FE;\n",
              "      border: none;\n",
              "      border-radius: 50%;\n",
              "      cursor: pointer;\n",
              "      display: none;\n",
              "      fill: #1967D2;\n",
              "      height: 32px;\n",
              "      padding: 0 0 0 0;\n",
              "      width: 32px;\n",
              "    }\n",
              "\n",
              "    .colab-df-convert:hover {\n",
              "      background-color: #E2EBFA;\n",
              "      box-shadow: 0px 1px 2px rgba(60, 64, 67, 0.3), 0px 1px 3px 1px rgba(60, 64, 67, 0.15);\n",
              "      fill: #174EA6;\n",
              "    }\n",
              "\n",
              "    .colab-df-buttons div {\n",
              "      margin-bottom: 4px;\n",
              "    }\n",
              "\n",
              "    [theme=dark] .colab-df-convert {\n",
              "      background-color: #3B4455;\n",
              "      fill: #D2E3FC;\n",
              "    }\n",
              "\n",
              "    [theme=dark] .colab-df-convert:hover {\n",
              "      background-color: #434B5C;\n",
              "      box-shadow: 0px 1px 3px 1px rgba(0, 0, 0, 0.15);\n",
              "      filter: drop-shadow(0px 1px 2px rgba(0, 0, 0, 0.3));\n",
              "      fill: #FFFFFF;\n",
              "    }\n",
              "  </style>\n",
              "\n",
              "    <script>\n",
              "      const buttonEl =\n",
              "        document.querySelector('#df-9141b4e9-db83-4237-af2e-a09c10f44b6d button.colab-df-convert');\n",
              "      buttonEl.style.display =\n",
              "        google.colab.kernel.accessAllowed ? 'block' : 'none';\n",
              "\n",
              "      async function convertToInteractive(key) {\n",
              "        const element = document.querySelector('#df-9141b4e9-db83-4237-af2e-a09c10f44b6d');\n",
              "        const dataTable =\n",
              "          await google.colab.kernel.invokeFunction('convertToInteractive',\n",
              "                                                    [key], {});\n",
              "        if (!dataTable) return;\n",
              "\n",
              "        const docLinkHtml = 'Like what you see? Visit the ' +\n",
              "          '<a target=\"_blank\" href=https://colab.research.google.com/notebooks/data_table.ipynb>data table notebook</a>'\n",
              "          + ' to learn more about interactive tables.';\n",
              "        element.innerHTML = '';\n",
              "        dataTable['output_type'] = 'display_data';\n",
              "        await google.colab.output.renderOutput(dataTable, element);\n",
              "        const docLink = document.createElement('div');\n",
              "        docLink.innerHTML = docLinkHtml;\n",
              "        element.appendChild(docLink);\n",
              "      }\n",
              "    </script>\n",
              "  </div>\n",
              "\n",
              "\n",
              "<div id=\"df-c5bde1e6-2257-4096-9004-39698dd6abd3\">\n",
              "  <button class=\"colab-df-quickchart\" onclick=\"quickchart('df-c5bde1e6-2257-4096-9004-39698dd6abd3')\"\n",
              "            title=\"Suggest charts\"\n",
              "            style=\"display:none;\">\n",
              "\n",
              "<svg xmlns=\"http://www.w3.org/2000/svg\" height=\"24px\"viewBox=\"0 0 24 24\"\n",
              "     width=\"24px\">\n",
              "    <g>\n",
              "        <path d=\"M19 3H5c-1.1 0-2 .9-2 2v14c0 1.1.9 2 2 2h14c1.1 0 2-.9 2-2V5c0-1.1-.9-2-2-2zM9 17H7v-7h2v7zm4 0h-2V7h2v10zm4 0h-2v-4h2v4z\"/>\n",
              "    </g>\n",
              "</svg>\n",
              "  </button>\n",
              "\n",
              "<style>\n",
              "  .colab-df-quickchart {\n",
              "      --bg-color: #E8F0FE;\n",
              "      --fill-color: #1967D2;\n",
              "      --hover-bg-color: #E2EBFA;\n",
              "      --hover-fill-color: #174EA6;\n",
              "      --disabled-fill-color: #AAA;\n",
              "      --disabled-bg-color: #DDD;\n",
              "  }\n",
              "\n",
              "  [theme=dark] .colab-df-quickchart {\n",
              "      --bg-color: #3B4455;\n",
              "      --fill-color: #D2E3FC;\n",
              "      --hover-bg-color: #434B5C;\n",
              "      --hover-fill-color: #FFFFFF;\n",
              "      --disabled-bg-color: #3B4455;\n",
              "      --disabled-fill-color: #666;\n",
              "  }\n",
              "\n",
              "  .colab-df-quickchart {\n",
              "    background-color: var(--bg-color);\n",
              "    border: none;\n",
              "    border-radius: 50%;\n",
              "    cursor: pointer;\n",
              "    display: none;\n",
              "    fill: var(--fill-color);\n",
              "    height: 32px;\n",
              "    padding: 0;\n",
              "    width: 32px;\n",
              "  }\n",
              "\n",
              "  .colab-df-quickchart:hover {\n",
              "    background-color: var(--hover-bg-color);\n",
              "    box-shadow: 0 1px 2px rgba(60, 64, 67, 0.3), 0 1px 3px 1px rgba(60, 64, 67, 0.15);\n",
              "    fill: var(--button-hover-fill-color);\n",
              "  }\n",
              "\n",
              "  .colab-df-quickchart-complete:disabled,\n",
              "  .colab-df-quickchart-complete:disabled:hover {\n",
              "    background-color: var(--disabled-bg-color);\n",
              "    fill: var(--disabled-fill-color);\n",
              "    box-shadow: none;\n",
              "  }\n",
              "\n",
              "  .colab-df-spinner {\n",
              "    border: 2px solid var(--fill-color);\n",
              "    border-color: transparent;\n",
              "    border-bottom-color: var(--fill-color);\n",
              "    animation:\n",
              "      spin 1s steps(1) infinite;\n",
              "  }\n",
              "\n",
              "  @keyframes spin {\n",
              "    0% {\n",
              "      border-color: transparent;\n",
              "      border-bottom-color: var(--fill-color);\n",
              "      border-left-color: var(--fill-color);\n",
              "    }\n",
              "    20% {\n",
              "      border-color: transparent;\n",
              "      border-left-color: var(--fill-color);\n",
              "      border-top-color: var(--fill-color);\n",
              "    }\n",
              "    30% {\n",
              "      border-color: transparent;\n",
              "      border-left-color: var(--fill-color);\n",
              "      border-top-color: var(--fill-color);\n",
              "      border-right-color: var(--fill-color);\n",
              "    }\n",
              "    40% {\n",
              "      border-color: transparent;\n",
              "      border-right-color: var(--fill-color);\n",
              "      border-top-color: var(--fill-color);\n",
              "    }\n",
              "    60% {\n",
              "      border-color: transparent;\n",
              "      border-right-color: var(--fill-color);\n",
              "    }\n",
              "    80% {\n",
              "      border-color: transparent;\n",
              "      border-right-color: var(--fill-color);\n",
              "      border-bottom-color: var(--fill-color);\n",
              "    }\n",
              "    90% {\n",
              "      border-color: transparent;\n",
              "      border-bottom-color: var(--fill-color);\n",
              "    }\n",
              "  }\n",
              "</style>\n",
              "\n",
              "  <script>\n",
              "    async function quickchart(key) {\n",
              "      const quickchartButtonEl =\n",
              "        document.querySelector('#' + key + ' button');\n",
              "      quickchartButtonEl.disabled = true;  // To prevent multiple clicks.\n",
              "      quickchartButtonEl.classList.add('colab-df-spinner');\n",
              "      try {\n",
              "        const charts = await google.colab.kernel.invokeFunction(\n",
              "            'suggestCharts', [key], {});\n",
              "      } catch (error) {\n",
              "        console.error('Error during call to suggestCharts:', error);\n",
              "      }\n",
              "      quickchartButtonEl.classList.remove('colab-df-spinner');\n",
              "      quickchartButtonEl.classList.add('colab-df-quickchart-complete');\n",
              "    }\n",
              "    (() => {\n",
              "      let quickchartButtonEl =\n",
              "        document.querySelector('#df-c5bde1e6-2257-4096-9004-39698dd6abd3 button');\n",
              "      quickchartButtonEl.style.display =\n",
              "        google.colab.kernel.accessAllowed ? 'block' : 'none';\n",
              "    })();\n",
              "  </script>\n",
              "</div>\n",
              "\n",
              "  <div id=\"id_c94c3fb9-f0af-4162-a38d-555d5ce586b3\">\n",
              "    <style>\n",
              "      .colab-df-generate {\n",
              "        background-color: #E8F0FE;\n",
              "        border: none;\n",
              "        border-radius: 50%;\n",
              "        cursor: pointer;\n",
              "        display: none;\n",
              "        fill: #1967D2;\n",
              "        height: 32px;\n",
              "        padding: 0 0 0 0;\n",
              "        width: 32px;\n",
              "      }\n",
              "\n",
              "      .colab-df-generate:hover {\n",
              "        background-color: #E2EBFA;\n",
              "        box-shadow: 0px 1px 2px rgba(60, 64, 67, 0.3), 0px 1px 3px 1px rgba(60, 64, 67, 0.15);\n",
              "        fill: #174EA6;\n",
              "      }\n",
              "\n",
              "      [theme=dark] .colab-df-generate {\n",
              "        background-color: #3B4455;\n",
              "        fill: #D2E3FC;\n",
              "      }\n",
              "\n",
              "      [theme=dark] .colab-df-generate:hover {\n",
              "        background-color: #434B5C;\n",
              "        box-shadow: 0px 1px 3px 1px rgba(0, 0, 0, 0.15);\n",
              "        filter: drop-shadow(0px 1px 2px rgba(0, 0, 0, 0.3));\n",
              "        fill: #FFFFFF;\n",
              "      }\n",
              "    </style>\n",
              "    <button class=\"colab-df-generate\" onclick=\"generateWithVariable('segments_pd')\"\n",
              "            title=\"Generate code using this dataframe.\"\n",
              "            style=\"display:none;\">\n",
              "\n",
              "  <svg xmlns=\"http://www.w3.org/2000/svg\" height=\"24px\"viewBox=\"0 0 24 24\"\n",
              "       width=\"24px\">\n",
              "    <path d=\"M7,19H8.4L18.45,9,17,7.55,7,17.6ZM5,21V16.75L18.45,3.32a2,2,0,0,1,2.83,0l1.4,1.43a1.91,1.91,0,0,1,.58,1.4,1.91,1.91,0,0,1-.58,1.4L9.25,21ZM18.45,9,17,7.55Zm-12,3A5.31,5.31,0,0,0,4.9,8.1,5.31,5.31,0,0,0,1,6.5,5.31,5.31,0,0,0,4.9,4.9,5.31,5.31,0,0,0,6.5,1,5.31,5.31,0,0,0,8.1,4.9,5.31,5.31,0,0,0,12,6.5,5.46,5.46,0,0,0,6.5,12Z\"/>\n",
              "  </svg>\n",
              "    </button>\n",
              "    <script>\n",
              "      (() => {\n",
              "      const buttonEl =\n",
              "        document.querySelector('#id_c94c3fb9-f0af-4162-a38d-555d5ce586b3 button.colab-df-generate');\n",
              "      buttonEl.style.display =\n",
              "        google.colab.kernel.accessAllowed ? 'block' : 'none';\n",
              "\n",
              "      buttonEl.onclick = () => {\n",
              "        google.colab.notebook.generateWithVariable('segments_pd');\n",
              "      }\n",
              "      })();\n",
              "    </script>\n",
              "  </div>\n",
              "\n",
              "    </div>\n",
              "  </div>\n"
            ],
            "application/vnd.google.colaboratory.intrinsic+json": {
              "type": "dataframe",
              "variable_name": "segments_pd",
              "repr_error": "Function 'unique' has no kernel matching input types (list<item: struct<CENTROID_ID: int64, DISTANCE: double>>)"
            }
          },
          "metadata": {},
          "execution_count": 19
        }
      ]
    },
    {
      "cell_type": "markdown",
      "source": [
        "#### **Generate scatterplot to display clusters**"
      ],
      "metadata": {
        "id": "CKIhpH9kPXNQ"
      }
    },
    {
      "cell_type": "code",
      "source": [
        "g = sns.lmplot(x='count_orders', y='average_spend', data=segments_pd, fit_reg=False, hue='segment_id', palette='Set2', height=7, aspect=2)\n",
        "g = (g.set_axis_labels('Count Orders','Average Spend ($)', fontsize=15).set(xlim=(0,10),ylim=(0,400)))\n",
        "plt.title('Attribute Grouped by K-means Cluster', pad=20, fontsize=20)"
      ],
      "metadata": {
        "id": "WH8s_tULGyf5",
        "colab": {
          "base_uri": "https://localhost:8080/",
          "height": 513
        },
        "executionInfo": {
          "status": "ok",
          "timestamp": 1741398592811,
          "user_tz": 0,
          "elapsed": 1140,
          "user": {
            "displayName": "",
            "userId": ""
          }
        },
        "outputId": "d08ed92a-52f1-4d8a-9784-deeb03d32db5"
      },
      "execution_count": 20,
      "outputs": [
        {
          "output_type": "execute_result",
          "data": {
            "text/plain": [
              "Text(0.5, 1.0, 'Attribute Grouped by K-means Cluster')"
            ]
          },
          "metadata": {},
          "execution_count": 20
        },
        {
          "output_type": "display_data",
          "data": {
            "text/plain": [
              "<Figure size 1491.61x700 with 1 Axes>"
            ],
            "image/png": "[encoded data removed]"
          },
          "metadata": {}
        }
      ]
    },
    {
      "cell_type": "markdown",
      "source": [
        "#### **Cluster Summary Statistics**\n",
        "\n",
        "The visualization helped us see distinct clusters. Now let's generate some summary statistics around order recency, frequency, and spend by cluster."
      ],
      "metadata": {
        "id": "yh1_PqPvIalu"
      }
    },
    {
      "cell_type": "code",
      "source": [
        "df_centroid = kmeans.cluster_centers_\n",
        "df_centroid"
      ],
      "metadata": {
        "id": "UmEsjTfeIueR",
        "colab": {
          "base_uri": "https://localhost:8080/",
          "height": 611
        },
        "executionInfo": {
          "status": "ok",
          "timestamp": 1741398659422,
          "user_tz": 0,
          "elapsed": 8438,
          "user": {
            "displayName": "",
            "userId": ""
          }
        },
        "outputId": "0feefd4f-912c-4b2e-c35e-99d97fab64e3"
      },
      "execution_count": 21,
      "outputs": [
        {
          "output_type": "display_data",
          "data": {
            "text/plain": [
              "<IPython.core.display.HTML object>"
            ],
            "text/html": [
              "Query job cca3843b-03fe-4c37-a618-abb4a2e6449c is RUNNING. <a target=\"_blank\" href=\"https://console.cloud.google.com/bigquery?project=solid-pact-453100-d7&j=bq:US:cca3843b-03fe-4c37-a618-abb4a2e6449c&page=queryresults\">Open Job</a>"
            ]
          },
          "metadata": {}
        },
        {
          "output_type": "display_data",
          "data": {
            "text/plain": [
              "<IPython.core.display.HTML object>"
            ],
            "text/html": [
              "Query job 1f937259-6779-4e5a-bc14-3d1bcb270d42 is DONE. 248 Bytes processed. <a target=\"_blank\" href=\"https://console.cloud.google.com/bigquery?project=solid-pact-453100-d7&j=bq:US:1f937259-6779-4e5a-bc14-3d1bcb270d42&page=queryresults\">Open Job</a>"
            ]
          },
          "metadata": {}
        },
        {
          "output_type": "display_data",
          "data": {
            "text/plain": [
              "<IPython.core.display.HTML object>"
            ],
            "text/html": [
              "Query job 871de0b8-d686-4664-b872-d99aba350d42 is DONE. 0 Bytes processed. <a target=\"_blank\" href=\"https://console.cloud.google.com/bigquery?project=solid-pact-453100-d7&j=bq:US:871de0b8-d686-4664-b872-d99aba350d42&page=queryresults\">Open Job</a>"
            ]
          },
          "metadata": {}
        },
        {
          "output_type": "execute_result",
          "data": {
            "text/plain": [
              "    centroid_id        feature  numerical_value categorical_value\n",
              "0             1  average_spend        55.333616                []\n",
              "1             1   count_orders         1.586297                []\n",
              "2             1   return_ratio         0.944709                []\n",
              "3             2  average_spend        38.246153                []\n",
              "4             2   count_orders         1.265283                []\n",
              "5             2   return_ratio              0.0                []\n",
              "6             3  average_spend       406.878526                []\n",
              "7             3   count_orders         1.166667                []\n",
              "8             3   return_ratio         0.101449                []\n",
              "9             4  average_spend        58.475635                []\n",
              "10            4   count_orders         3.703222                []\n",
              "11            4   return_ratio         0.030793                []\n",
              "12            5  average_spend       131.356189                []\n",
              "13            5   count_orders         1.299173                []\n",
              "14            5   return_ratio         0.001273                []\n",
              "\n",
              "[15 rows x 4 columns]"
            ],
            "text/html": [
              "<div>\n",
              "<style scoped>\n",
              "    .dataframe tbody tr th:only-of-type {\n",
              "        vertical-align: middle;\n",
              "    }\n",
              "\n",
              "    .dataframe tbody tr th {\n",
              "        vertical-align: top;\n",
              "    }\n",
              "\n",
              "    .dataframe thead th {\n",
              "        text-align: right;\n",
              "    }\n",
              "</style>\n",
              "<table border=\"1\" class=\"dataframe\">\n",
              "  <thead>\n",
              "    <tr style=\"text-align: right;\">\n",
              "      <th></th>\n",
              "      <th>centroid_id</th>\n",
              "      <th>feature</th>\n",
              "      <th>numerical_value</th>\n",
              "      <th>categorical_value</th>\n",
              "    </tr>\n",
              "  </thead>\n",
              "  <tbody>\n",
              "    <tr>\n",
              "      <th>0</th>\n",
              "      <td>1</td>\n",
              "      <td>average_spend</td>\n",
              "      <td>55.333616</td>\n",
              "      <td>[]</td>\n",
              "    </tr>\n",
              "    <tr>\n",
              "      <th>1</th>\n",
              "      <td>1</td>\n",
              "      <td>count_orders</td>\n",
              "      <td>1.586297</td>\n",
              "      <td>[]</td>\n",
              "    </tr>\n",
              "    <tr>\n",
              "      <th>2</th>\n",
              "      <td>1</td>\n",
              "      <td>return_ratio</td>\n",
              "      <td>0.944709</td>\n",
              "      <td>[]</td>\n",
              "    </tr>\n",
              "    <tr>\n",
              "      <th>3</th>\n",
              "      <td>2</td>\n",
              "      <td>average_spend</td>\n",
              "      <td>38.246153</td>\n",
              "      <td>[]</td>\n",
              "    </tr>\n",
              "    <tr>\n",
              "      <th>4</th>\n",
              "      <td>2</td>\n",
              "      <td>count_orders</td>\n",
              "      <td>1.265283</td>\n",
              "      <td>[]</td>\n",
              "    </tr>\n",
              "    <tr>\n",
              "      <th>5</th>\n",
              "      <td>2</td>\n",
              "      <td>return_ratio</td>\n",
              "      <td>0.0</td>\n",
              "      <td>[]</td>\n",
              "    </tr>\n",
              "    <tr>\n",
              "      <th>6</th>\n",
              "      <td>3</td>\n",
              "      <td>average_spend</td>\n",
              "      <td>406.878526</td>\n",
              "      <td>[]</td>\n",
              "    </tr>\n",
              "    <tr>\n",
              "      <th>7</th>\n",
              "      <td>3</td>\n",
              "      <td>count_orders</td>\n",
              "      <td>1.166667</td>\n",
              "      <td>[]</td>\n",
              "    </tr>\n",
              "    <tr>\n",
              "      <th>8</th>\n",
              "      <td>3</td>\n",
              "      <td>return_ratio</td>\n",
              "      <td>0.101449</td>\n",
              "      <td>[]</td>\n",
              "    </tr>\n",
              "    <tr>\n",
              "      <th>9</th>\n",
              "      <td>4</td>\n",
              "      <td>average_spend</td>\n",
              "      <td>58.475635</td>\n",
              "      <td>[]</td>\n",
              "    </tr>\n",
              "    <tr>\n",
              "      <th>10</th>\n",
              "      <td>4</td>\n",
              "      <td>count_orders</td>\n",
              "      <td>3.703222</td>\n",
              "      <td>[]</td>\n",
              "    </tr>\n",
              "    <tr>\n",
              "      <th>11</th>\n",
              "      <td>4</td>\n",
              "      <td>return_ratio</td>\n",
              "      <td>0.030793</td>\n",
              "      <td>[]</td>\n",
              "    </tr>\n",
              "    <tr>\n",
              "      <th>12</th>\n",
              "      <td>5</td>\n",
              "      <td>average_spend</td>\n",
              "      <td>131.356189</td>\n",
              "      <td>[]</td>\n",
              "    </tr>\n",
              "    <tr>\n",
              "      <th>13</th>\n",
              "      <td>5</td>\n",
              "      <td>count_orders</td>\n",
              "      <td>1.299173</td>\n",
              "      <td>[]</td>\n",
              "    </tr>\n",
              "    <tr>\n",
              "      <th>14</th>\n",
              "      <td>5</td>\n",
              "      <td>return_ratio</td>\n",
              "      <td>0.001273</td>\n",
              "      <td>[]</td>\n",
              "    </tr>\n",
              "  </tbody>\n",
              "</table>\n",
              "<p>15 rows × 4 columns</p>\n",
              "</div>[15 rows x 4 columns in total]"
            ]
          },
          "metadata": {},
          "execution_count": 21
        }
      ]
    },
    {
      "cell_type": "code",
      "source": [
        "df_centroid_pivot = df_centroid.pivot(index='centroid_id', columns='feature', values='numerical_value')\n",
        "df_centroid_pivot"
      ],
      "metadata": {
        "id": "FzVxofIPJ5zQ",
        "colab": {
          "base_uri": "https://localhost:8080/",
          "height": 332
        },
        "executionInfo": {
          "status": "ok",
          "timestamp": 1741398704829,
          "user_tz": 0,
          "elapsed": 8463,
          "user": {
            "displayName": "",
            "userId": ""
          }
        },
        "outputId": "ed2e91f9-b544-4b4f-b762-9c149f7ee58c"
      },
      "execution_count": 22,
      "outputs": [
        {
          "output_type": "display_data",
          "data": {
            "text/plain": [
              "<IPython.core.display.HTML object>"
            ],
            "text/html": [
              "Query job 03b0e0eb-883e-454e-84f8-f55a6a55e0a9 is DONE. 0 Bytes processed. <a target=\"_blank\" href=\"https://console.cloud.google.com/bigquery?project=solid-pact-453100-d7&j=bq:US:03b0e0eb-883e-454e-84f8-f55a6a55e0a9&page=queryresults\">Open Job</a>"
            ]
          },
          "metadata": {}
        },
        {
          "output_type": "display_data",
          "data": {
            "text/plain": [
              "<IPython.core.display.HTML object>"
            ],
            "text/html": [
              "Query job 46ff706d-fb98-485e-8714-ed37c77d51a5 is DONE. 0 Bytes processed. <a target=\"_blank\" href=\"https://console.cloud.google.com/bigquery?project=solid-pact-453100-d7&j=bq:US:46ff706d-fb98-485e-8714-ed37c77d51a5&page=queryresults\">Open Job</a>"
            ]
          },
          "metadata": {}
        },
        {
          "output_type": "display_data",
          "data": {
            "text/plain": [
              "<IPython.core.display.HTML object>"
            ],
            "text/html": [
              "Query job ad872998-4a60-4cc3-b725-71dcda15ba65 is DONE. 200 Bytes processed. <a target=\"_blank\" href=\"https://console.cloud.google.com/bigquery?project=solid-pact-453100-d7&j=bq:US:ad872998-4a60-4cc3-b725-71dcda15ba65&page=queryresults\">Open Job</a>"
            ]
          },
          "metadata": {}
        },
        {
          "output_type": "execute_result",
          "data": {
            "text/plain": [
              "feature      average_spend  count_orders  return_ratio\n",
              "centroid_id                                           \n",
              "1                55.333616      1.586297      0.944709\n",
              "2                38.246153      1.265283           0.0\n",
              "3               406.878526      1.166667      0.101449\n",
              "4                58.475635      3.703222      0.030793\n",
              "5               131.356189      1.299173      0.001273\n",
              "\n",
              "[5 rows x 3 columns]"
            ],
            "text/html": [
              "<div>\n",
              "<style scoped>\n",
              "    .dataframe tbody tr th:only-of-type {\n",
              "        vertical-align: middle;\n",
              "    }\n",
              "\n",
              "    .dataframe tbody tr th {\n",
              "        vertical-align: top;\n",
              "    }\n",
              "\n",
              "    .dataframe thead th {\n",
              "        text-align: right;\n",
              "    }\n",
              "</style>\n",
              "<table border=\"1\" class=\"dataframe\">\n",
              "  <thead>\n",
              "    <tr style=\"text-align: right;\">\n",
              "      <th>feature</th>\n",
              "      <th>average_spend</th>\n",
              "      <th>count_orders</th>\n",
              "      <th>return_ratio</th>\n",
              "    </tr>\n",
              "    <tr>\n",
              "      <th>centroid_id</th>\n",
              "      <th></th>\n",
              "      <th></th>\n",
              "      <th></th>\n",
              "    </tr>\n",
              "  </thead>\n",
              "  <tbody>\n",
              "    <tr>\n",
              "      <th>1</th>\n",
              "      <td>55.333616</td>\n",
              "      <td>1.586297</td>\n",
              "      <td>0.944709</td>\n",
              "    </tr>\n",
              "    <tr>\n",
              "      <th>2</th>\n",
              "      <td>38.246153</td>\n",
              "      <td>1.265283</td>\n",
              "      <td>0.0</td>\n",
              "    </tr>\n",
              "    <tr>\n",
              "      <th>3</th>\n",
              "      <td>406.878526</td>\n",
              "      <td>1.166667</td>\n",
              "      <td>0.101449</td>\n",
              "    </tr>\n",
              "    <tr>\n",
              "      <th>4</th>\n",
              "      <td>58.475635</td>\n",
              "      <td>3.703222</td>\n",
              "      <td>0.030793</td>\n",
              "    </tr>\n",
              "    <tr>\n",
              "      <th>5</th>\n",
              "      <td>131.356189</td>\n",
              "      <td>1.299173</td>\n",
              "      <td>0.001273</td>\n",
              "    </tr>\n",
              "  </tbody>\n",
              "</table>\n",
              "<p>5 rows × 3 columns</p>\n",
              "</div>[5 rows x 3 columns in total]"
            ]
          },
          "metadata": {},
          "execution_count": 22
        }
      ]
    },
    {
      "cell_type": "markdown",
      "source": [
        "#### **Summary Statistics**\n",
        "Whew! That's a lot of metrics and cluster info. How about we explain this to our colleagues using the magic of LLMs.\n",
        "\n",
        "Let's begin by creating a string with the summary statistics from the last cell."
      ],
      "metadata": {
        "id": "9Ey4aZIEMykc"
      }
    },
    {
      "cell_type": "code",
      "source": [
        "pd_df = df_centroid_pivot.reset_index().to_pandas()\n",
        "pd_df.to_string(header=False, index=False)\n",
        "\n",
        "cluster_info = []\n",
        "for i, row in pd_df.iterrows():\n",
        "  cluster_info.append(\"{0}, average spend ${2}, count of orders per person {1}, return ratio {3}\"\n",
        "    .format(row[\"centroid_id\"], row[\"count_orders\"], row[\"average_spend\"], row[\"return_ratio\"]) )\n",
        "\n",
        "print(str.join(\"\\n\", cluster_info))"
      ],
      "metadata": {
        "id": "XB8SdzclMxUx",
        "colab": {
          "base_uri": "https://localhost:8080/",
          "height": 139
        },
        "executionInfo": {
          "status": "ok",
          "timestamp": 1741398800748,
          "user_tz": 0,
          "elapsed": 2651,
          "user": {
            "displayName": "",
            "userId": ""
          }
        },
        "outputId": "c17e1122-d5ac-4d65-947c-ebbd7b3b94b6"
      },
      "execution_count": 23,
      "outputs": [
        {
          "output_type": "display_data",
          "data": {
            "text/plain": [
              "<IPython.core.display.HTML object>"
            ],
            "text/html": [
              "Query job 29ba3573-e12d-4e96-8b8b-fbe6e3d5554c is DONE. 200 Bytes processed. <a target=\"_blank\" href=\"https://console.cloud.google.com/bigquery?project=solid-pact-453100-d7&j=bq:US:29ba3573-e12d-4e96-8b8b-fbe6e3d5554c&page=queryresults\">Open Job</a>"
            ]
          },
          "metadata": {}
        },
        {
          "output_type": "stream",
          "name": "stdout",
          "text": [
            "1, average spend $55.33361601128198, count of orders per person 1.5862966175195148, return ratio 0.9447094535992876\n",
            "2, average spend $38.24615336307713, count of orders per person 1.265283230510368, return ratio 2.275957200481571e-15\n",
            "3, average spend $406.878526445748, count of orders per person 1.1666666666666676, return ratio 0.10144927536231893\n",
            "4, average spend $58.47563490409944, count of orders per person 3.7032218091697544, return ratio 0.030793060718710116\n",
            "5, average spend $131.35618928625598, count of orders per person 1.2991725015913358, return ratio 0.001273074474855737\n"
          ]
        }
      ]
    },
    {
      "cell_type": "markdown",
      "source": [
        "## Step 4 : Generative AI - Explain customer segments with Vertex AI Gemini API\n",
        "\n",
        "To leverage Large Language Models directly from BigQuery, we will specify a [BigQuery connection](https://cloud.google.com/bigquery/docs/working-with-connections). If you already have a connection, you can simplify provide the name and skip the following creation steps"
      ],
      "metadata": {
        "id": "7Na0_rVVLhOk"
      }
    },
    {
      "cell_type": "code",
      "source": [
        "# Please fill in these values.\n",
        "CONNECTION = \"bq-llm\"  # @param {type:\"string\"}\n",
        "\n",
        "connection_name = f\"{PROJECT_ID}.{LOCATION}.{CONNECTION}\""
      ],
      "metadata": {
        "id": "W13HyzWX0I-F",
        "executionInfo": {
          "status": "ok",
          "timestamp": 1741399091100,
          "user_tz": 0,
          "elapsed": 158,
          "user": {
            "displayName": "",
            "userId": ""
          }
        }
      },
      "execution_count": 24,
      "outputs": []
    },
    {
      "cell_type": "markdown",
      "source": [
        "#### **BigQuery Connection Setup**\n",
        "BigQuery lets you interact with services outside of BigQuery in Google Cloud services like Cloud Storage or Cloud Spanner, or in third-party sources like AWS or Azure. These external connections use the BigQuery Connection API.\n",
        "\n",
        "In this case, we interact with Vertex AI Large Language models using Connection API.\n",
        "\n",
        "In following cell, we try to use the provided connection, and if it doesn't exist, create a new one. We will also print the service account used.\n",
        "\n",
        "Note : You may require additional permissions as [documented here](https://cloud.google.com/bigquery/docs/working-with-connections#expandable-1) to perform following step."
      ],
      "metadata": {
        "id": "EtiHiulOEd8R"
      }
    },
    {
      "cell_type": "code",
      "source": [
        "from google.cloud import bigquery_connection_v1 as bq_connection\n",
        "from bigframes.ml.llm import GeminiTextGenerator\n",
        "session = bpd.get_global_session()"
      ],
      "metadata": {
        "id": "sIqdPAl44JQc",
        "executionInfo": {
          "status": "ok",
          "timestamp": 1741399113280,
          "user_tz": 0,
          "elapsed": 169,
          "user": {
            "displayName": "",
            "userId": ""
          }
        }
      },
      "execution_count": 25,
      "outputs": []
    },
    {
      "cell_type": "code",
      "source": [
        "# Initialize client and set request parameters\n",
        "client = bq_connection.ConnectionServiceClient()\n",
        "new_conn_parent = f\"projects/{PROJECT_ID}/locations/{LOCATION}\"\n",
        "exists_conn_parent = f\"projects/{PROJECT_ID}/locations/{LOCATION}/connections/{CONNECTION}\"\n",
        "cloud_resource_properties = bq_connection.CloudResourceProperties({})\n",
        "\n",
        "# Try to connect using provided connection\n",
        "try:\n",
        "    request = client.get_connection(\n",
        "        request=bq_connection.GetConnectionRequest(name=exists_conn_parent)\n",
        "    )\n",
        "    CONN_SERVICE_ACCOUNT = f\"serviceAccount:{request.cloud_resource.service_account_id}\"\n",
        "# Create a new connection on error\n",
        "except Exception:\n",
        "    connection = bq_connection.types.Connection(\n",
        "        {\"friendly_name\": CONNECTION, \"cloud_resource\": cloud_resource_properties}\n",
        "    )\n",
        "    request = bq_connection.CreateConnectionRequest(\n",
        "        {\n",
        "            \"parent\": new_conn_parent,\n",
        "            \"connection_id\": CONNECTION,\n",
        "            \"connection\": connection,\n",
        "        }\n",
        "    )\n",
        "    response = client.create_connection(request)\n",
        "    CONN_SERVICE_ACCOUNT = (\n",
        "        f\"serviceAccount:{response.cloud_resource.service_account_id}\"\n",
        "    )\n",
        "# Set service account permissions\n",
        "!gcloud projects add-iam-policy-binding {PROJECT_ID} --condition=None --no-user-output-enabled --member={CONN_SERVICE_ACCOUNT} --role='roles/bigquery.connectionUser'\n",
        "!gcloud projects add-iam-policy-binding {PROJECT_ID} --condition=None --no-user-output-enabled --member={CONN_SERVICE_ACCOUNT} --role='roles/aiplatform.user'\n",
        "!gcloud projects add-iam-policy-binding {PROJECT_ID} --condition=None --no-user-output-enabled --member={CONN_SERVICE_ACCOUNT} --role='roles/run.invoker'\n",
        "\n",
        "print(CONN_SERVICE_ACCOUNT)"
      ],
      "metadata": {
        "id": "V8iLYPrX3opw",
        "colab": {
          "base_uri": "https://localhost:8080/"
        },
        "executionInfo": {
          "status": "ok",
          "timestamp": 1741399182619,
          "user_tz": 0,
          "elapsed": 8477,
          "user": {
            "displayName": "",
            "userId": ""
          }
        },
        "outputId": "4f5ee0c4-e417-4887-a215-dc905febe720"
      },
      "execution_count": 26,
      "outputs": [
        {
          "output_type": "stream",
          "name": "stdout",
          "text": [
            "serviceAccount:bqcx-283703216303-dbsw@gcp-sa-bigquery-condel.iam.gserviceaccount.com\n"
          ]
        }
      ]
    },
    {
      "cell_type": "markdown",
      "source": [
        "The resource connection service account requires certain project-level permissions:\n",
        "\n",
        "`roles/aiplatform.user` and `roles/bigquery.connectionUser`: These roles are required for the connection to create a model definition using the LLM model in Vertex AI ([documentation](https://cloud.google.com/bigquery/docs/generate-text#give_the_service_account_access)).\n",
        "roles/run.invoker: This role is required for the connection to have read-only access to Cloud Run services that back custom/remote functions ([documentation](https://cloud.google.com/bigquery/docs/remote-functions#grant_permission_on_function))."
      ],
      "metadata": {
        "id": "j2x4dhJ8Fhtc"
      }
    },
    {
      "cell_type": "markdown",
      "source": [
        "#### **Define the Large Language model using BigFrames**\n",
        "\n",
        "Use bigframes.ml.llm to define the model and get BigFrames session\n"
      ],
      "metadata": {
        "id": "-ay0KygzF_Q1"
      }
    },
    {
      "cell_type": "markdown",
      "source": [
        "#### **Create a Prompt**\n",
        "For each cluster, ask the LLM to act as a brand strategist and generate the following:\n",
        "* Title\n",
        "* Persona\n",
        "* Next Marketing Step"
      ],
      "metadata": {
        "id": "tdoRB7RjLso6"
      }
    },
    {
      "cell_type": "code",
      "source": [
        "model = GeminiTextGenerator(session=session, connection_name=connection_name)"
      ],
      "metadata": {
        "id": "7J22pFpewG-M",
        "colab": {
          "base_uri": "https://localhost:8080/",
          "height": 34
        },
        "executionInfo": {
          "status": "ok",
          "timestamp": 1741399263048,
          "user_tz": 0,
          "elapsed": 3622,
          "user": {
            "displayName": "",
            "userId": ""
          }
        },
        "outputId": "84a1b10a-7953-49c0-8792-f3857a45b43d"
      },
      "execution_count": 27,
      "outputs": [
        {
          "output_type": "display_data",
          "data": {
            "text/plain": [
              "<IPython.core.display.HTML object>"
            ],
            "text/html": [
              "Query job 117dcf36-0e50-4caa-a7dc-f56415e672d3 is DONE. 0 Bytes processed. <a target=\"_blank\" href=\"https://console.cloud.google.com/bigquery?project=solid-pact-453100-d7&j=bq:US:117dcf36-0e50-4caa-a7dc-f56415e672d3&page=queryresults\">Open Job</a>"
            ]
          },
          "metadata": {}
        }
      ]
    },
    {
      "cell_type": "code",
      "source": [
        "clusters = str.join(\"\\n\", cluster_info)\n",
        "\n",
        "prompt = f\"\"\"\n",
        "You're a creative brand strategist, given the following clusters, come up with \\\n",
        "creative brand persona, a catchy title, and next marketing action, \\\n",
        "explained step by step.\n",
        "\n",
        "Clusters:\n",
        "{clusters}\n",
        "\n",
        "For each Cluster:\n",
        "* Title:\n",
        "* Persona:\n",
        "* Next Marketing Step:\n",
        "\"\"\"\n",
        "\n"
      ],
      "metadata": {
        "id": "MYwQNH0ELu9y",
        "executionInfo": {
          "status": "ok",
          "timestamp": 1741399317107,
          "user_tz": 0,
          "elapsed": 99,
          "user": {
            "displayName": "",
            "userId": ""
          }
        }
      },
      "execution_count": 29,
      "outputs": []
    },
    {
      "cell_type": "markdown",
      "source": [
        "#### **Prediction using Large Language model**"
      ],
      "metadata": {
        "id": "X7wyE30HP4-U"
      }
    },
    {
      "cell_type": "code",
      "source": [
        "prompt_df = bpd.read_pandas(pd.DataFrame({'prompt': [prompt]}))\n",
        "pred = model.predict(prompt_df, max_output_tokens=1024, temperature=0.55, top_p=0.8, top_k=40)\n",
        "print(pred.iloc[0,0])"
      ],
      "metadata": {
        "id": "wumJXJv2Qqg_",
        "colab": {
          "base_uri": "https://localhost:8080/",
          "height": 785
        },
        "executionInfo": {
          "status": "ok",
          "timestamp": 1741399368320,
          "user_tz": 0,
          "elapsed": 16299,
          "user": {
            "displayName": "",
            "userId": ""
          }
        },
        "outputId": "a68dd034-efa0-434e-90e3-2d525e4635f1"
      },
      "execution_count": 30,
      "outputs": [
        {
          "output_type": "display_data",
          "data": {
            "text/plain": [
              "<IPython.core.display.HTML object>"
            ],
            "text/html": [
              "Query job e6a34cd7-b38b-45ec-9b00-54dcaf242a2b is DONE. 0 Bytes processed. <a target=\"_blank\" href=\"https://console.cloud.google.com/bigquery?project=solid-pact-453100-d7&j=bq:US:e6a34cd7-b38b-45ec-9b00-54dcaf242a2b&page=queryresults\">Open Job</a>"
            ]
          },
          "metadata": {}
        },
        {
          "output_type": "stream",
          "name": "stderr",
          "text": [
            "/usr/local/lib/python3.10/dist-packages/bigframes/core/array_value.py:114: PreviewWarning: Interpreting JSON column(s) as the `db_dtypes.dbjson` extension type isin preview; this behavior may change in future versions.\n",
            "  warnings.warn(msg, bfe.PreviewWarning)\n"
          ]
        },
        {
          "output_type": "display_data",
          "data": {
            "text/plain": [
              "<IPython.core.display.HTML object>"
            ],
            "text/html": [
              "Query job 1c9e1b6d-4cbe-4ede-8153-38fe6eae12b5 is DONE. 2 Bytes processed. <a target=\"_blank\" href=\"https://console.cloud.google.com/bigquery?project=solid-pact-453100-d7&j=bq:US:1c9e1b6d-4cbe-4ede-8153-38fe6eae12b5&page=queryresults\">Open Job</a>"
            ]
          },
          "metadata": {}
        },
        {
          "output_type": "display_data",
          "data": {
            "text/plain": [
              "<IPython.core.display.HTML object>"
            ],
            "text/html": [
              "Query job 07e39898-2562-4c43-b892-15cf1edb47eb is DONE. 2 Bytes processed. <a target=\"_blank\" href=\"https://console.cloud.google.com/bigquery?project=solid-pact-453100-d7&j=bq:US:07e39898-2562-4c43-b892-15cf1edb47eb&page=queryresults\">Open Job</a>"
            ]
          },
          "metadata": {}
        },
        {
          "output_type": "display_data",
          "data": {
            "text/plain": [
              "<IPython.core.display.HTML object>"
            ],
            "text/html": [
              "Query job 19e972b4-373a-4ba3-97cf-3d7b8da7f159 is DONE. 2.3 kB processed. <a target=\"_blank\" href=\"https://console.cloud.google.com/bigquery?project=solid-pact-453100-d7&j=bq:US:19e972b4-373a-4ba3-97cf-3d7b8da7f159&page=queryresults\">Open Job</a>"
            ]
          },
          "metadata": {}
        },
        {
          "output_type": "stream",
          "name": "stdout",
          "text": [
            "## Brand Personas and Marketing Strategies for Each Customer Cluster:\n",
            "\n",
            "**Cluster 1:**\n",
            "\n",
            "* **Title:** The Loyal Value Seeker\n",
            "* **Persona:** This customer makes repeat purchases, but spends moderately. They are likely price-conscious but also value quality and reliability.\n",
            "* **Next Marketing Step:** Offer loyalty programs, exclusive discounts, and personalized recommendations based on their purchase history. \n",
            "\n",
            "**Cluster 2:**\n",
            "\n",
            "* **Title:** The Occasional Buyer\n",
            "* **Persona:** This customer makes infrequent purchases and spends the least. They might be new to the brand or only buy when they need something specific.\n",
            "* **Next Marketing Step:** Implement targeted ads and promotions to re-engage them and encourage repeat purchases. Offer incentives like free shipping or product samples.\n",
            "\n",
            "**Cluster 3:**\n",
            "\n",
            "* **Title:** The High-Roller\n",
            "* **Persona:** This customer spends the most per purchase but buys less frequently. They are likely affluent and value luxury or high-quality products.\n",
            "* **Next Marketing Step:** Offer premium services, exclusive products, and VIP experiences. Personalize communication and cater to their individual needs and preferences.\n",
            "\n",
            "**Cluster 4:**\n",
            "\n",
            "* **Title:** The Bargain Hunter\n",
            "* **Persona:** This customer makes frequent purchases but spends the least per order. They are likely very price-sensitive and actively seek out deals and discounts.\n",
            "* **Next Marketing Step:** Highlight promotions, bundle deals, and clearance sales. Offer free shipping on larger orders to encourage them to spend more.\n",
            "\n",
            "**Cluster 5:**\n",
            "\n",
            "* **Title:** The Considered Purchaser\n",
            "* **Persona:** This customer spends a moderate amount per purchase and makes infrequent orders. They likely research and compare products before buying and prioritize quality and value.\n",
            "* **Next Marketing Step:** Provide detailed product information, customer reviews, and comparison tools. Offer educational content and resources to help them make informed decisions.\n",
            "\n",
            "**Additional Notes:**\n",
            "\n",
            "* These are just starting points, and you may need to refine your personas and marketing strategies based on additional data and customer insights.\n",
            "* Consider using a multi-channel marketing approach to reach each cluster effectively.\n",
            "* Track and analyze the results of your marketing campaigns to measure their success and make adjustments as needed. \n",
            "\n"
          ]
        }
      ]
    },
    {
      "cell_type": "markdown",
      "source": [
        "**Voila! We've now used k-Means clustering to create groups of spenders and explain their profiles.**"
      ],
      "metadata": {
        "id": "jqC5uUguaunY"
      }
    },
    {
      "cell_type": "markdown",
      "source": [
        "**Congratulations**! You have learned how to use **BigFrames** and manage each step of the process, including gathering data, data manipulation, and querying the LLM."
      ],
      "metadata": {
        "id": "bi8SGY4__aEI"
      }
    },
    {
      "cell_type": "markdown",
      "source": [
        "\n",
        "\n",
        "---\n",
        "\n"
      ],
      "metadata": {
        "id": "oFVRAN2wckHC"
      }
    },
    {
      "cell_type": "markdown",
      "source": [
        "#### **BONUS #1: LLM Prompt Engineering**\n",
        "\n",
        "Sometimes, though, you want a little bit extra.\n",
        "\n",
        "#### **Personalized marketing emails**\n",
        "Think about using Generative AI to also generate personalized marketing emails using witty e-mail headline for marketing campaign targeted to their clusters of customers\n",
        "\n",
        "Reference: [Prompt Generation with Generative AI](https://cloud.google.com/blog/transform/prompt-debunking-five-generative-ai-misconceptions)."
      ],
      "metadata": {
        "id": "5HEVHGmmRyGW"
      }
    },
    {
      "cell_type": "code",
      "source": [
        "cluster_info = str.join('\\n', cluster_info)\n",
        "\n",
        "prompt = f\"\"\"\n",
        "Pretend you're a creative strategist, analyze the following clusters and come up with \\\n",
        "creative brand persona for each that includes the detail of which Taylor Swift song is \\\n",
        "likely to be their favorite, a summary of how this relates to their purchasing behavior, \\\n",
        "and a witty e-mail headline for marketing campaign targeted to their group using \\\n",
        "their predicted favorite song title.\n",
        "\n",
        "Clusters:\n",
        "{cluster_info}\n",
        "\n",
        "\n",
        "For each Cluster:\n",
        "* Cluster:\n",
        "* Interests:\n",
        "* Favorite Taylor Swift Song:\n",
        "* Witty email headline:\n",
        "* Email body:\n",
        "\n",
        "\"\"\"\n"
      ],
      "metadata": {
        "id": "3HgwtN1tR3xQ",
        "executionInfo": {
          "status": "ok",
          "timestamp": 1741399524054,
          "user_tz": 0,
          "elapsed": 218,
          "user": {
            "displayName": "",
            "userId": ""
          }
        }
      },
      "execution_count": 31,
      "outputs": []
    },
    {
      "cell_type": "code",
      "source": [
        "prompt_df = bpd.read_pandas(pd.DataFrame({'prompt': [prompt]}))\n",
        "pred = model.predict(prompt_df, max_output_tokens=1024, temperature=0.55, top_p=0.8, top_k=40)\n",
        "print(pred.iloc[0,0])"
      ],
      "metadata": {
        "id": "PqkskS625o7y",
        "colab": {
          "base_uri": "https://localhost:8080/",
          "height": 768
        },
        "executionInfo": {
          "status": "ok",
          "timestamp": 1741399550326,
          "user_tz": 0,
          "elapsed": 18324,
          "user": {
            "displayName": "",
            "userId": ""
          }
        },
        "outputId": "5fdfdcf4-4f9d-4cf4-d536-3027c5194f43"
      },
      "execution_count": 32,
      "outputs": [
        {
          "output_type": "display_data",
          "data": {
            "text/plain": [
              "<IPython.core.display.HTML object>"
            ],
            "text/html": [
              "Query job 8dc8357e-e734-48c8-b983-79571d13591a is DONE. 0 Bytes processed. <a target=\"_blank\" href=\"https://console.cloud.google.com/bigquery?project=solid-pact-453100-d7&j=bq:US:8dc8357e-e734-48c8-b983-79571d13591a&page=queryresults\">Open Job</a>"
            ]
          },
          "metadata": {}
        },
        {
          "output_type": "stream",
          "name": "stderr",
          "text": [
            "/usr/local/lib/python3.10/dist-packages/bigframes/core/array_value.py:114: PreviewWarning: Interpreting JSON column(s) as the `db_dtypes.dbjson` extension type isin preview; this behavior may change in future versions.\n",
            "  warnings.warn(msg, bfe.PreviewWarning)\n"
          ]
        },
        {
          "output_type": "display_data",
          "data": {
            "text/plain": [
              "<IPython.core.display.HTML object>"
            ],
            "text/html": [
              "Query job 335a00bd-1daf-4b2a-8cb0-b7d1adbb4751 is DONE. 2 Bytes processed. <a target=\"_blank\" href=\"https://console.cloud.google.com/bigquery?project=solid-pact-453100-d7&j=bq:US:335a00bd-1daf-4b2a-8cb0-b7d1adbb4751&page=queryresults\">Open Job</a>"
            ]
          },
          "metadata": {}
        },
        {
          "output_type": "display_data",
          "data": {
            "text/plain": [
              "<IPython.core.display.HTML object>"
            ],
            "text/html": [
              "Query job cf1761c6-b9f0-4f58-946e-0bd023e363be is DONE. 2 Bytes processed. <a target=\"_blank\" href=\"https://console.cloud.google.com/bigquery?project=solid-pact-453100-d7&j=bq:US:cf1761c6-b9f0-4f58-946e-0bd023e363be&page=queryresults\">Open Job</a>"
            ]
          },
          "metadata": {}
        },
        {
          "output_type": "display_data",
          "data": {
            "text/plain": [
              "<IPython.core.display.HTML object>"
            ],
            "text/html": [
              "Query job 6229c75e-3fe5-4907-bf0f-ec159da8a47d is DONE. 2.8 kB processed. <a target=\"_blank\" href=\"https://console.cloud.google.com/bigquery?project=solid-pact-453100-d7&j=bq:US:6229c75e-3fe5-4907-bf0f-ec159da8a47d&page=queryresults\">Open Job</a>"
            ]
          },
          "metadata": {}
        },
        {
          "output_type": "stream",
          "name": "stdout",
          "text": [
            "## Analyzing Taylor Swift Fan Clusters:\n",
            "\n",
            "**Cluster 1:**\n",
            "\n",
            "* **Interests:** Value-conscious, occasional shoppers.\n",
            "* **Favorite Taylor Swift Song:** \"Blank Space\" (ironic commentary on consumerism)\n",
            "* **Witty Email Headline:** \"Shake it Off: Save Big on Your Next Purchase!\"\n",
            "* **Email Body:** \"Hey there, savvy shopper! We know you're all about getting the best bang for your buck. That's why we're offering you exclusive deals on your favorite items. Don't miss out on these amazing savings - shake it off and treat yourself!\"\n",
            "\n",
            "**Cluster 2:**\n",
            "\n",
            "* **Interests:** Impulsive buyers, highly engaged with the brand.\n",
            "* **Favorite Taylor Swift Song:** \"Love Story\" (romantic, passionate, prone to quick decisions)\n",
            "* **Witty Email Headline:** \"Our Love Story with You: New Arrivals You'll Fall Head Over Heels For!\"\n",
            "* **Email Body:** \"Hey there, lovebirds! We've got a new collection that's sure to sweep you off your feet. Fall in love with our latest styles and trends, and get ready to write your own love story with us.\"\n",
            "\n",
            "**Cluster 3:**\n",
            "\n",
            "* **Interests:** High spenders, exclusive product seekers.\n",
            "* **Favorite Taylor Swift Song:** \"Delicate\" (appreciates the finer things, values exclusivity)\n",
            "* **Witty Email Headline:** \"Welcome to the Enchanted Forest: Discover Our Rare and Exquisite Collection.\"\n",
            "* **Email Body:** \"Dearest valued customer, we invite you to step into a world of luxury and refinement. Our latest collection features exquisite pieces that are as unique and delicate as you are. Indulge in the finest materials and craftsmanship, and experience the magic of owning something truly special.\"\n",
            "\n",
            "**Cluster 4:**\n",
            "\n",
            "* **Interests:** Frequent buyers, bargain hunters.\n",
            "* **Favorite Taylor Swift Song:** \"We Are Never Ever Getting Back Together\" (enjoys a good deal, values frequent purchases)\n",
            "* **Witty Email Headline:** \"We Never Got Over You: Back by Popular Demand - Your Favorite Items Are Back!\"\n",
            "* **Email Body:** \"Hey there, bargain hunters! We know you loved our previous collection, so we're bringing back your favorite items by popular demand. Don't miss your chance to snag these amazing deals before they're gone for good. We can't promise we'll never get over you, but we can promise you'll love these deals!\"\n",
            "\n",
            "**Cluster 5:**\n",
            "\n",
            "* **Interests:** High spenders, brand loyalists.\n",
            "* **Favorite Taylor Swift Song:** \"All Too Well\" (deeply connected to the brand, values nostalgia)\n",
            "* **Witty Email Headline:** \"Remember When? Relive the Magic with Our Classic Collection.\"\n",
            "* **Email Body:** \"Dearest loyal customer, we know you cherish the memories you've made with our brand. That's why we're bringing back a curated collection of classic items that will transport you back to those special moments. Relive the magic and create new memories with these timeless pieces.\"\n",
            "\n"
          ]
        }
      ]
    },
    {
      "cell_type": "markdown",
      "source": [
        "#### **BONUS #2: Generate Python in your Notebook**\n",
        "\n",
        "If you have Gemini enabled on your project, you can begin to generate Python directly within your Notebook:\n",
        "* Open a new Code cell\n",
        "* Click \"Generate with AI\"\n",
        "* Paste one of the prompts below and hit Enter\n",
        "* Generate Python code should appear in the cell\n"
      ],
      "metadata": {
        "id": "LT8lVXaCGDtK"
      }
    },
    {
      "cell_type": "code",
      "source": [
        "# prompt: 10 random numbers using numpy"
      ],
      "metadata": {
        "id": "zLFewJ8iGbLz"
      },
      "execution_count": null,
      "outputs": []
    },
    {
      "cell_type": "code",
      "source": [
        "# prompt: generate a bigframes dataframe from the table bigquery-public-data.thelook_ecommerce.order_items"
      ],
      "metadata": {
        "id": "ysTumh3TkcYU"
      },
      "execution_count": null,
      "outputs": []
    },
    {
      "cell_type": "code",
      "source": [
        "# prompt: write some sql that queries the table bigquery-public-data.thelook_ecommerce.order_items.  Don't use python. Use %%bigquery."
      ],
      "metadata": {
        "id": "b3J4r9FXmPfs"
      },
      "execution_count": null,
      "outputs": []
    },
    {
      "cell_type": "code",
      "source": [],
      "metadata": {
        "id": "OGjP9aTqhAay"
      },
      "execution_count": null,
      "outputs": []
    }
  ]
}